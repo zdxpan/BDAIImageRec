{
 "cells": [
  {
   "cell_type": "markdown",
   "metadata": {},
   "source": [
    "# 图像识别解析 old bad one"
   ]
  },
  {
   "cell_type": "code",
   "execution_count": 1,
   "metadata": {},
   "outputs": [],
   "source": [
    "import sys\n",
    "\n",
    "stdi, stdo, stde = sys.stdin, sys.stdout, sys.stderr\n",
    "reload(sys)\n",
    "sys.setdefaultencoding('utf-8')\n",
    "sys.stdin, sys.stdout, sys.stderr = stdi, stdo, stde\n",
    "\n",
    "import os\n",
    "# import re\n",
    "import cv2\n",
    "import numpy as np\n",
    "from skimage import draw\n",
    "# from aip import AipOcr \n",
    "# \"\"\" 你的 APPID AK SK \"\"\"\n",
    "APP_ID = '14865868'\n",
    "API_KEY = 'nyGBk6GCXbFi0OtAl0w3may6'\n",
    "SECRET_KEY = 'K2W60O8L3UR2P8i1gRjbf58Rd08ujIm5'\n",
    "#  caojiao \n",
    "APP_ID = '15553996'\n",
    "API_KEY = 'CnOZ9ufnupChOqbBffEFUsvz'\n",
    "SECRET_KEY = 'i6Qwzn8FFSOFi9u6wIi00Ug1H71vnuhp'\n",
    "# mengyao \n",
    "\n",
    "# client = AipOcr(APP_ID, API_KEY, SECRET_KEY)\n",
    "\n",
    "# \"\"\" 读取图片 \"\"\"\n",
    "def get_file_content(filePath):\n",
    "    with open(filePath, 'rb') as fp:\n",
    "        return fp.read()"
   ]
  },
  {
   "cell_type": "code",
   "execution_count": 2,
   "metadata": {},
   "outputs": [],
   "source": [
    "import re\n",
    "def get_recongrel(file):\n",
    "    rel = []\n",
    "    tem = []\n",
    "    pas_m = \"扫描下方二维码\".decode(\"utf8\")\n",
    "    image = get_file_content(file)\n",
    "    res=client.general(image)\n",
    "    if 'error_msg' in res.keys():\n",
    "        print(\"file error\".join(file))\n",
    "    for i in res['words_result']:\n",
    "        if re.match(pas_m, i['words']):\n",
    "            print(\"\".join([s for s in tem]))\n",
    "        tem.append(i['words'])\n",
    "    rel.append(tem)\n",
    "    return \"\".join([s for s in tem])\n",
    "file = \"/Users/zhoudaoxian/Desktop/13910139906.jpg\"\n",
    "pas_m = \"扫描下方二维码\".decode(\"utf8\")\n",
    "image = get_file_content(file)"
   ]
  },
  {
   "cell_type": "markdown",
   "metadata": {},
   "source": [
    "## 带参数的 url gernal "
   ]
  },
  {
   "cell_type": "code",
   "execution_count": 3,
   "metadata": {},
   "outputs": [],
   "source": [
    "options = {}\n",
    "options[\"language_type\"] = \"CHN_ENG\"  # 识别语言类型：- CHN_ENG：中英文混合；...\n",
    "options[\"detect_direction\"] = \"true\"  # 是否检测图像朝向，默认不检测\n",
    "options[\"detect_language\"] = \"true\"   # 语言检测\n",
    "options[\"probability\"] = \"true\"       # 是否返回识别结果中每一行的置信度\n",
    "# \"\"\" 带参数调用通用文字识别, 图片参数为本地图片 \"\"\"  \n",
    "# image = get_file_content(\"/Users/zhoudaoxian/Desktop/13910139906.jpg\")\n",
    "# res = client.general(image, options)"
   ]
  },
  {
   "cell_type": "markdown",
   "metadata": {},
   "source": [
    "# 百度AI开发者平台\n",
    "# OCR 获取access_token代码"
   ]
  },
  {
   "cell_type": "code",
   "execution_count": 4,
   "metadata": {},
   "outputs": [],
   "source": [
    "import urllib, urllib2, sys, json\n",
    "import base64\n",
    "import StringIO\n",
    "import ssl\n",
    "    # client_id 为官网获取的AK， client_secret 为官网获取的SK\n",
    "def get_auth():\n",
    "    apikey = API_KEY\n",
    "    secret_key = SECRET_KEY\n",
    "    host = 'https://aip.baidubce.com/oauth/2.0/token?grant_type=client_credentials&client_id=%s&client_secret=%s' % (apikey, secret_key)\n",
    "    request = urllib2.Request(host)\n",
    "    request.add_header('Content-Type', 'application/json; charset=UTF-8')\n",
    "    response = urllib2.urlopen(request)\n",
    "    content = response.read()\n",
    "    if (content):\n",
    "        o = json.loads(content.decode())\n",
    "        return o['access_token']\n",
    "    return None"
   ]
  },
  {
   "cell_type": "markdown",
   "metadata": {},
   "source": [
    "## 接口类型--------\n",
    "|-------x\n",
    "\n",
    "|\n",
    "|\n",
    "y"
   ]
  },
  {
   "cell_type": "code",
   "execution_count": 5,
   "metadata": {},
   "outputs": [],
   "source": [
    "url = \"https://aip.baidubce.com/rest/2.0/ocr/v1/general_basic\"  # 通用                  50000 ci /day               \n",
    "url = \"https://aip.baidubce.com/rest/2.0/ocr/v1/accurate_basic\" # 通用文字识别（高精度版）     500 /d        all 5W\n",
    "url = \"https://aip.baidubce.com/rest/2.0/ocr/v1/general\"        # 通用文字识别（含位置信息版）    \n",
    "# url = \"https://aip.baidubce.com/rest/2.0/ocr/v1/accurate\"       # 通用文字识别（含位置高精度版）     \n",
    "# url = \"https://aip.baidubce.com/rest/2.0/ocr/v1/handwriting\"    # 手写文字识别   500 /d      \n",
    "\n",
    "baseurl =  \"https://aip.baidubce.com/rest/2.0/ocr/v1/\"\n",
    "urls = [\"general_basic\", \"accurate_basic\", \"general\"]\n",
    "urls = [baseurl + i for i in urls]"
   ]
  },
  {
   "cell_type": "code",
   "execution_count": 6,
   "metadata": {},
   "outputs": [],
   "source": [
    "#---\"body 请求参数   image ; language_type; detect_language;  detect_direction ;  probability ;  \"---\n",
    "def seturl_bodyH_get_post(url, image):\n",
    "    access_token = get_auth()\n",
    "    url = url +  \"?access_token=%s\" % access_token\n",
    "    options = {}  \n",
    "    options['vertexes_location'] = \"true\"       # 文字外接多边形顶点位置\n",
    "    # options['recognize_granularity'] = 'small'\n",
    "    options[\"language_type\"] = \"CHN_ENG\"        # 识别语言类型：- CHN_ENG：中英文混合；...\n",
    "    options[\"detect_direction\"] = \"true\"        # 是否检测图像朝向，1:逆时针90度\n",
    "    options[\"detect_language\"] = \"true\"         # 语言检测\n",
    "    options[\"probability\"] = \"true\"             # 是否返回识别结果中每一行的置信度\n",
    "    options['image'] = base64.b64encode(image)  # 对图片进行base64编码\n",
    "    decode_data = urllib.urlencode(options)     # 将字符串进行URL编码\n",
    "    \n",
    "    req = urllib2.Request(url, data=decode_data)   # post请求\n",
    "    req.add_header('Content-Type', 'application/x-www-form-urlencoded')\n",
    "    req.add_header(\"API_KEY\", API_KEY)\n",
    "    res = urllib2.urlopen(req)\n",
    "    content = res.read()\n",
    "    if content is not None:\n",
    "        rel = json.loads(content)\n",
    "        return rel\n",
    "    return None"
   ]
  },
  {
   "cell_type": "code",
   "execution_count": 7,
   "metadata": {},
   "outputs": [],
   "source": [
    "import matplotlib.pyplot as plt\n",
    "def show_fig(title, size,img):\n",
    "    plt.figure(title, figsize=size)\n",
    "    plt.imshow(img, plt.cm.gray)\n",
    "    plt.title(title) # 图像题目\n",
    "    plt.show()\n",
    "def show_2(img1,img2):\n",
    "    fig, (ax1, ax2) = plt.subplots(1, 2, figsize=(8, 8))\n",
    "    ax1.imshow(img1, interpolation='nearest')\n",
    "    ax2.imshow(img2, interpolation='nearest')\n",
    "    fig.tight_layout()\n",
    "    plt.show()"
   ]
  },
  {
   "cell_type": "code",
   "execution_count": 8,
   "metadata": {},
   "outputs": [
    {
     "name": "stdout",
     "output_type": "stream",
     "text": [
      "exportframe\n",
      "fimgs.txt\n",
      "fimgs1.txt\n"
     ]
    }
   ],
   "source": [
    "os.chdir(\"/Users/zhoudaoxian/Documents/frame/\")\n",
    "for i in os.listdir(\"/Users/zhoudaoxian/Documents/frame/\")[1:10]:\n",
    "    print(i.decode(\"utf-8\"))"
   ]
  },
  {
   "cell_type": "markdown",
   "metadata": {},
   "source": [
    "## TODO 优化定位点寻取"
   ]
  },
  {
   "cell_type": "code",
   "execution_count": 9,
   "metadata": {},
   "outputs": [],
   "source": [
    "def findposition(rel):  \n",
    "    \"\"\" 区分定位点信息:\n",
    "            球镜柱镜轴位瞳距移中心  规格单位数量单价   姓名\n",
    "        划分姓名区域\n",
    "    \"\"\"\n",
    "    reac = []           # 识别划分信息                     球镜柱镜轴位瞳距移中心矫正视力\n",
    "    tesla = []          # NAME 的最右边---> :y 边界 提取    规格单位数量单价\n",
    "    \n",
    "    cnn = []            # CNN识别方位，取镜时间 使用CNN矫正  -----------bad option ,delete\n",
    "    \n",
    "    name = []           # 姓名的识别区域 ***\n",
    "    name_minx = []\n",
    "    \n",
    "    for k in rel[u'words_result']:\n",
    "        words = k['words']\n",
    "        tem = [v_ for v_ in k[u'vertexes_location']]        \n",
    "        if u'姓名' in words or u'姓' in words:          # absolute locate\n",
    "            name.extend(tem)\n",
    "        \n",
    "        if u'住址' in words or u'址' in words:   #  or u'E-mail' in words or u'mail' in words\n",
    "            name.extend(tem)\n",
    "            \n",
    "        if u'性' in words or u'别' in words or u'龄' in words:    # or u'年' in words or u'龄' in words or u'龄' in words\n",
    "            name.extend(tem)\n",
    "            \n",
    "        if u'规格单位数量单价' in words or u'规格单位' in words or u'单位数量' in words:  # miny  作为划分点\n",
    "            tesla.extend(tem)\n",
    "            \n",
    "        if u'邮编' in words or u'龄' in words or u'手机' in words or u'电话' in words:  # 计算mini _ y\n",
    "            cnn.extend(tem)\n",
    "            \n",
    "        if u'球镜柱镜轴位瞳距移中心矫正视力' in words or u'矫正视力' in words or u'轴位' in words:     \n",
    "            reac.extend(tem)\n",
    "        if u'取镜' in words or u'时间' in words or u'验光' in words:\n",
    "            name_minx.extend(tem)\n",
    "        if u'金额' in words:\n",
    "            break\n",
    "    return reac,tesla,cnn,name"
   ]
  },
  {
   "cell_type": "code",
   "execution_count": 10,
   "metadata": {},
   "outputs": [],
   "source": [
    "#  提取poin of interest\n",
    "def abstract_poi(boxs):\n",
    "    recta, rectb, lena, lenb = None,None,None,None\n",
    "    y,x = [],[]\n",
    "    for i in boxs:\n",
    "        y.append(i['y'])\n",
    "        x.append(i['x'])\n",
    "    if len(x) > 0 and len(y) > 0:   \n",
    "        recta,rectb = np.min(x),np.max(x) \n",
    "        lena, lenb = np.min(y),np.max(y)\n",
    "    return recta, rectb, lena, lenb"
   ]
  },
  {
   "cell_type": "markdown",
   "metadata": {},
   "source": [
    "## Tesala 本地OCR工具"
   ]
  },
  {
   "cell_type": "code",
   "execution_count": 11,
   "metadata": {},
   "outputs": [],
   "source": [
    "# 粗略识别汉字定位，提取位置信息\n",
    "import pandas as pd\n",
    "import StringIO\n",
    "from PIL import Image\n",
    "import pytesseract"
   ]
  },
  {
   "cell_type": "code",
   "execution_count": 12,
   "metadata": {},
   "outputs": [],
   "source": [
    "def show_deb(reac, imgt):\n",
    "    \"\"\"显示调试信息，截取信息区域显示出来\"\"\"\n",
    "    w,h,_ = img.shape\n",
    "    tca,tcb,lena,lenb = abstract_poi(reac)\n",
    "    for rec in reac:\n",
    "        rr, cc=draw.circle(rec['x'],h-rec['y'],10)    #  先画 X， 再画 Y\n",
    "        draw.set_color(imgt,[rr,cc],[125,255,0])\n",
    "    if tca-10<=0:\n",
    "        tca = 0\n",
    "    else:\n",
    "        tca = tca - 10\n",
    "    if tcb + 10 > w:\n",
    "        tcb = w\n",
    "    else:\n",
    "        tcb = tcb + 10\n",
    "    show_fig(\"draw cycle\", (12,12), imgt[tca:tcb,])"
   ]
  },
  {
   "cell_type": "code",
   "execution_count": 30,
   "metadata": {},
   "outputs": [],
   "source": [
    "# 根据points 截取图像 写入文件\n",
    "def cut_pic(po, img, imgfile): \n",
    "    tca,tcb,lena,lenb = abstract_poi(po)\n",
    "    if tca:\n",
    "        if tca - 3 <= 0:\n",
    "            tca = 0\n",
    "        else:\n",
    "            tca = tca -3\n",
    "        imgt = img[tca-3:tcb+3,]\n",
    "        cv2.imwrite(imgfile, imgt)\n",
    "        return True\n",
    "    return False"
   ]
  },
  {
   "cell_type": "markdown",
   "metadata": {},
   "source": [
    "## 引入腾讯ocr"
   ]
  },
  {
   "cell_type": "code",
   "execution_count": 14,
   "metadata": {},
   "outputs": [],
   "source": [
    "from txocr import txocr, set_appkey"
   ]
  },
  {
   "cell_type": "code",
   "execution_count": 41,
   "metadata": {},
   "outputs": [],
   "source": [
    "set_appkey(2)\n",
    "name_f = dict()"
   ]
  },
  {
   "cell_type": "markdown",
   "metadata": {},
   "source": [
    "## 划分处理文件"
   ]
  },
  {
   "cell_type": "code",
   "execution_count": 18,
   "metadata": {},
   "outputs": [],
   "source": [
    "imgs = os.listdir(\"/Users/zhoudaoxian/Documents/frame/exportframe/\")\n",
    "\n",
    "# f = open(\"fimgs.txt\",'w+')\n",
    "# f.write('\\n'.join(imgs))\n",
    "# f.close()\n",
    "f = open(\"fimgs.txt\", \"r\")\n",
    "imgs = f.readlines()\n",
    "f.close()\n"
   ]
  },
  {
   "cell_type": "code",
   "execution_count": 19,
   "metadata": {},
   "outputs": [
    {
     "data": {
      "text/plain": [
       "25428"
      ]
     },
     "execution_count": 19,
     "metadata": {},
     "output_type": "execute_result"
    }
   ],
   "source": [
    "len(imgs)"
   ]
  },
  {
   "cell_type": "code",
   "execution_count": 42,
   "metadata": {},
   "outputs": [],
   "source": [
    "# imgs1 = imgs[:10000]\n",
    "# f = open(\"fimgs1.txt\",'w+')\n",
    "# f.write('\\n'.join(imgs1))\n",
    "# f.close()\n",
    "f = open(\"fimgs1.txt\", \"r\")\n",
    "imgs1 = f.readlines()\n",
    "f.close()"
   ]
  },
  {
   "cell_type": "code",
   "execution_count": 43,
   "metadata": {},
   "outputs": [
    {
     "data": {
      "text/plain": [
       "'/Users/zhoudaoxian/Documents/frame_s/004.jpg'"
      ]
     },
     "execution_count": 43,
     "metadata": {},
     "output_type": "execute_result"
    }
   ],
   "source": [
    "cutfile"
   ]
  },
  {
   "cell_type": "code",
   "execution_count": null,
   "metadata": {},
   "outputs": [],
   "source": [
    "#----球镜柱镜轴位瞳距移中心矫正视力----规格单位数量单价----#\n",
    "failed = []\n",
    "url = urls[-1]  # 多个处理接口工具 选择一种，效果不一定相同\n",
    "ws1 = set(u\"球镜柱镜轴位瞳距移中心矫\")\n",
    "ws2 = set(u\"规格单位数量单价\")\n",
    "ws3 = set(u\"姓名住址性别年龄验年月日\")\n",
    "# 矫正的图片，多个特征提取\n",
    "tempfile = \"/Users/zhoudaoxian/Documents/frame_s/imgt.jpg\"\n",
    "for imgfile in imgs1:\n",
    "    image = get_file_content(\"exportframe/\"+imgfile.strip(\"\\n\"))\n",
    "    try:\n",
    "        rel = seturl_bodyH_get_post(url,image)\n",
    "    except Exception:\n",
    "        rel = seturl_bodyH_get_post(url,image)\n",
    "        \n",
    "    img = cv2.imread(\"exportframe/\"+imgfile.strip(\"\\n\"), 1)  # opencv 打开图像\n",
    "    w,h,_ = img.shape\n",
    "    reac,tesla,cnn,name = findposition(rel)\n",
    "    tca,tcb,lena,lenb = abstract_poi(name)\n",
    "    lenb = abstract_poi(cnn)[2]\n",
    "    \n",
    "    dirct,dictime = 2,0   # 匹配字数权重 旋转次数\n",
    "    \n",
    "    for dirction in [0,-1,2,1]:  # 只需要旋转3次，本来就可能是对的\n",
    "        imgt = np.rot90(img, dirction)\n",
    "        w,h,_ = imgt.shape           \n",
    "        \n",
    "        weight = 0\n",
    "        for area in [0,1]:\n",
    "            #  中间定位 ws1 \n",
    "            cut_pic([reac,tesla][area], imgt, tempfile)\n",
    "            im = Image.open(tempfile)\n",
    "            words=set(pytesseract.image_to_string((im), lang='chi_sim'))\n",
    "            ws = [ws1,ws2][area]\n",
    "            words = ws.intersection(words)\n",
    "            weight = weight + 0.5*len(words)\n",
    "            \n",
    "        if weight > dirct:\n",
    "            target = imgt[tca:tcb,:lenb]            \n",
    "            dirct,dictime = weight,dirction\n",
    "            \n",
    "            cutfile = \"/Users/zhoudaoxian/Documents/frame_s/\" + imgfile.strip(\"\\n\")\n",
    "            cv2.imwrite(cutfile,target)\n",
    "#             break\n",
    "            im = Image.open(cutfile)\n",
    "            words=set(pytesseract.image_to_string((im), lang='chi_sim'))\n",
    "            words = ws3.intersection(words)\n",
    "#             print(words)\n",
    "            if len(words) > 1:\n",
    "                break\n",
    "        \n",
    "    imgt = np.rot90(img, dirction)  #  终于得到正确的方向的图像\n",
    "    if tca is None:\n",
    "        failed.append(imgfile)\n",
    "        continue\n",
    "    if lenb is None:\n",
    "        lenb = h\n",
    "\n",
    "    target = imgt[tca:tcb,:lenb]\n",
    "#     show_fig(\"recgnise name\", (12,12), target)\n",
    "    while True:\n",
    "        try:\n",
    "            subwords = txocr(target)  #  腾讯接口挂了\n",
    "            break\n",
    "        except Exception:\n",
    "            continue\n",
    "    subword = set()\n",
    "    if 'data' in subwords and 'item_list' in subwords['data'] and len(subwords['data'][u'item_list']) > 0:\n",
    "        subword = set(''.join([_[u'itemstring'] for _ in subwords['data'][u'item_list']]) )\n",
    "    subword = subword.difference(ws3)\n",
    "    if len(subword) > 0:\n",
    "        name_f[imgfile] = subword\n",
    "        \n"
   ]
  },
  {
   "cell_type": "code",
   "execution_count": 38,
   "metadata": {},
   "outputs": [
    {
     "data": {
      "text/plain": [
       "{'004.jpg\\n': {u'?', u'H'},\n",
       " '0061413603642.jpg\\n': {u'\\u65fa'},\n",
       " '009792042964.jpg\\n': {u'C',\n",
       "  u'R',\n",
       "  u'\\u51fa',\n",
       "  u'\\u54c1',\n",
       "  u'\\u59d0',\n",
       "  u'\\u652f',\n",
       "  u'\\u7c73'},\n",
       " '01735394234.jpg\\n': {u'R', u'\\u540c', u'\\u5fd7', u'\\u65fa', u'\\u7ee7'},\n",
       " '13.jpg\\n': {u' ',\n",
       "  u'.',\n",
       "  u'L',\n",
       "  u'T',\n",
       "  u'U',\n",
       "  u'Z',\n",
       "  u'o',\n",
       "  u'p',\n",
       "  u'\\u4e50',\n",
       "  u'\\u5188',\n",
       "  u'\\u53bf',\n",
       "  u'\\u65f6',\n",
       "  u'\\u6bd5',\n",
       "  u'\\u7532',\n",
       "  u'\\u7765',\n",
       "  u'\\u809d',\n",
       "  u'\\u8349',\n",
       "  u'\\u975e',\n",
       "  u'\\uffe5'},\n",
       " '13001001668.jpg\\n': {u'\\u56de'},\n",
       " '13001028988.jpg\\n': {u\"'\", u'U', u'm', u'\\u7406'},\n",
       " '13001030717.jpg\\n': {u'#', u'i', u'\\u7968', u'\\u91cf'}}"
      ]
     },
     "execution_count": 38,
     "metadata": {},
     "output_type": "execute_result"
    }
   ],
   "source": [
    "name_f"
   ]
  },
  {
   "cell_type": "code",
   "execution_count": null,
   "metadata": {},
   "outputs": [],
   "source": []
  },
  {
   "cell_type": "code",
   "execution_count": null,
   "metadata": {},
   "outputs": [],
   "source": []
  },
  {
   "cell_type": "markdown",
   "metadata": {},
   "source": [
    "### 测试上面剪裁的图像"
   ]
  },
  {
   "cell_type": "markdown",
   "metadata": {},
   "source": [
    "### location 解释域定义"
   ]
  }
 ],
 "metadata": {
  "kernelspec": {
   "display_name": "Python 2",
   "language": "python",
   "name": "python2"
  },
  "language_info": {
   "codemirror_mode": {
    "name": "ipython",
    "version": 2
   },
   "file_extension": ".py",
   "mimetype": "text/x-python",
   "name": "python",
   "nbconvert_exporter": "python",
   "pygments_lexer": "ipython2",
   "version": "2.7.14"
  }
 },
 "nbformat": 4,
 "nbformat_minor": 2
}
