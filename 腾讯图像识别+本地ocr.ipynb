{
 "cells": [
  {
   "cell_type": "markdown",
   "metadata": {},
   "source": [
    "## 读取图像，二值化\n",
    "#### 1、方向检测、旋转？\n",
    "#### 2、基本信息点查找 得到位置信息\n",
    "#### 3、图像分割"
   ]
  },
  {
   "cell_type": "code",
   "execution_count": 1,
   "metadata": {},
   "outputs": [],
   "source": [
    "import aircv as ac\n",
    "import skimage.morphology as sm  # 膨胀与腐蚀\n",
    "import matplotlib.pyplot as plt\n",
    "from skimage import io,color\n",
    "from skimage import data,filters  # filters  阈值处理\n",
    "import numpy as np\n",
    "import cv2  #  打开图像不会 旋转img=cv2.imread(file, 1)\n",
    "# file = \"/Users/zhoudaoxian/Documents/frame/沈13810387085.jpg\"\n",
    "# img = io.imread(file, True)\n",
    "# img=cv2.imread(file, 1)\n"
   ]
  },
  {
   "cell_type": "code",
   "execution_count": 2,
   "metadata": {},
   "outputs": [],
   "source": [
    "# img90=np.rot90(img)\n",
    "def show_fig(title, sub, size,img):\n",
    "    plt.figure(title, figsize=size)\n",
    "    plt.subplot(sub)\n",
    "    plt.imshow(img, plt.cm.gray)\n",
    "    plt.title(title) # 图像题目\n",
    "    plt.show()\n",
    "# show_fig(\"ori\",(111), (4,4), img)\n",
    "# show_fig(\"ori\", (20,20), img)"
   ]
  },
  {
   "cell_type": "code",
   "execution_count": 3,
   "metadata": {},
   "outputs": [],
   "source": [
    "import pandas as pd\n",
    "import StringIO\n",
    "from PIL import Image\n",
    "import pytesseract"
   ]
  },
  {
   "cell_type": "code",
   "execution_count": 5,
   "metadata": {},
   "outputs": [
    {
     "name": "stdout",
     "output_type": "stream",
     "text": [
      "   0    1   2    3    4  5\n",
      "1  合  203  84  244  126  0\n",
      "2  作  261  84  293  125  0\n",
      "3  新  299  84  340  125  0\n",
      "4  模  346  84  388  125  0\n",
      "5  式  413  84  435  125  0\n",
      "6  提  172  17  469   49  0\n"
     ]
    }
   ],
   "source": [
    "im = Image.open(\"/Users/zhoudaoxian/Downloads/lp_data/落地页模版筛选图片和配色方法/401_早教/11.jpeg\")\n",
    "rel=pytesseract.image_to_boxes((im), lang='chi_sim')\n",
    "rel = pd.read_csv(StringIO.StringIO(rel), sep=\" \",  header=None)\n",
    "# text = pytesseract.image_to_string((im), lang='chi_sim')\n",
    "print(rel[1:10])"
   ]
  },
  {
   "cell_type": "code",
   "execution_count": 6,
   "metadata": {},
   "outputs": [],
   "source": [
    "boxs=pytesseract.image_to_boxes((im), lang='chi_sim')"
   ]
  },
  {
   "cell_type": "code",
   "execution_count": 13,
   "metadata": {},
   "outputs": [
    {
     "name": "stdout",
     "output_type": "stream",
     "text": [
      " 8 100 27 125 0\n",
      "光 32 101 76 126 0\n",
      "单 842 0 842 0 0\n",
      "0 106 94 153 133 0\n",
      "外 158 94 181 139 0\n",
      "年 204 103 2\n"
     ]
    },
    {
     "data": {
      "text/plain": [
       "u' 8 100 27 125 0\\n\\u5149 32 101 76 126 0\\n\\u5355 842 0 842 0 0\\n0 106 94 153 133 0\\n\\u5916 158 94 181 139 0\\n\\u5e74 204 103 228 128 0\\n\\u9a6c 245 102 266 142 0\\n\\u6708 283 104 303 127 0\\n2'"
      ]
     },
     "execution_count": 13,
     "metadata": {},
     "output_type": "execute_result"
    }
   ],
   "source": [
    "print(boxs[1:100])\n",
    "boxs[1:150]"
   ]
  },
  {
   "cell_type": "code",
   "execution_count": 71,
   "metadata": {},
   "outputs": [
    {
     "data": {
      "text/html": [
       "<div>\n",
       "<style scoped>\n",
       "    .dataframe tbody tr th:only-of-type {\n",
       "        vertical-align: middle;\n",
       "    }\n",
       "\n",
       "    .dataframe tbody tr th {\n",
       "        vertical-align: top;\n",
       "    }\n",
       "\n",
       "    .dataframe thead th {\n",
       "        text-align: right;\n",
       "    }\n",
       "</style>\n",
       "<table border=\"1\" class=\"dataframe\">\n",
       "  <thead>\n",
       "    <tr style=\"text-align: right;\">\n",
       "      <th></th>\n",
       "      <th>0</th>\n",
       "      <th>1</th>\n",
       "      <th>2</th>\n",
       "      <th>3</th>\n",
       "      <th>4</th>\n",
       "      <th>5</th>\n",
       "    </tr>\n",
       "  </thead>\n",
       "  <tbody>\n",
       "    <tr>\n",
       "      <th>1</th>\n",
       "      <td>光</td>\n",
       "      <td>32</td>\n",
       "      <td>101</td>\n",
       "      <td>76</td>\n",
       "      <td>126</td>\n",
       "      <td>0</td>\n",
       "    </tr>\n",
       "    <tr>\n",
       "      <th>2</th>\n",
       "      <td>单</td>\n",
       "      <td>842</td>\n",
       "      <td>0</td>\n",
       "      <td>842</td>\n",
       "      <td>0</td>\n",
       "      <td>0</td>\n",
       "    </tr>\n",
       "    <tr>\n",
       "      <th>3</th>\n",
       "      <td>0</td>\n",
       "      <td>106</td>\n",
       "      <td>94</td>\n",
       "      <td>153</td>\n",
       "      <td>133</td>\n",
       "      <td>0</td>\n",
       "    </tr>\n",
       "    <tr>\n",
       "      <th>4</th>\n",
       "      <td>外</td>\n",
       "      <td>158</td>\n",
       "      <td>94</td>\n",
       "      <td>181</td>\n",
       "      <td>139</td>\n",
       "      <td>0</td>\n",
       "    </tr>\n",
       "    <tr>\n",
       "      <th>5</th>\n",
       "      <td>年</td>\n",
       "      <td>204</td>\n",
       "      <td>103</td>\n",
       "      <td>228</td>\n",
       "      <td>128</td>\n",
       "      <td>0</td>\n",
       "    </tr>\n",
       "    <tr>\n",
       "      <th>6</th>\n",
       "      <td>马</td>\n",
       "      <td>245</td>\n",
       "      <td>102</td>\n",
       "      <td>266</td>\n",
       "      <td>142</td>\n",
       "      <td>0</td>\n",
       "    </tr>\n",
       "    <tr>\n",
       "      <th>7</th>\n",
       "      <td>月</td>\n",
       "      <td>283</td>\n",
       "      <td>104</td>\n",
       "      <td>303</td>\n",
       "      <td>127</td>\n",
       "      <td>0</td>\n",
       "    </tr>\n",
       "    <tr>\n",
       "      <th>8</th>\n",
       "      <td>2</td>\n",
       "      <td>312</td>\n",
       "      <td>105</td>\n",
       "      <td>327</td>\n",
       "      <td>131</td>\n",
       "      <td>0</td>\n",
       "    </tr>\n",
       "    <tr>\n",
       "      <th>9</th>\n",
       "      <td>7</td>\n",
       "      <td>327</td>\n",
       "      <td>81</td>\n",
       "      <td>354</td>\n",
       "      <td>146</td>\n",
       "      <td>0</td>\n",
       "    </tr>\n",
       "  </tbody>\n",
       "</table>\n",
       "</div>"
      ],
      "text/plain": [
       "   0    1    2    3    4  5\n",
       "1  光   32  101   76  126  0\n",
       "2  单  842    0  842    0  0\n",
       "3  0  106   94  153  133  0\n",
       "4  外  158   94  181  139  0\n",
       "5  年  204  103  228  128  0\n",
       "6  马  245  102  266  142  0\n",
       "7  月  283  104  303  127  0\n",
       "8  2  312  105  327  131  0\n",
       "9  7  327   81  354  146  0"
      ]
     },
     "execution_count": 71,
     "metadata": {},
     "output_type": "execute_result"
    }
   ],
   "source": [
    "box = pd.read_csv(StringIO.StringIO(boxs), sep=\" \",  header=None)\n",
    "box[1:10]"
   ]
  },
  {
   "cell_type": "markdown",
   "metadata": {},
   "source": [
    "## 腾讯AI"
   ]
  },
  {
   "cell_type": "code",
   "execution_count": 6,
   "metadata": {},
   "outputs": [],
   "source": [
    "# caojiao\n",
    "appid = \"2111930335\"\n",
    "appkey = \"ye1i7bjYBrCcB4Jb\"\n",
    "\n",
    "#  mengyao\n",
    "appid = \"2111931001\"\n",
    "appkey = \"MSHOgpyd5ycBC5Nz\"\n",
    "\n",
    "# zdx\n",
    "appid = '2111435318'\n",
    "appkey = 'izx4fOqgtab2BGq1'\n",
    "\n",
    "#  通用OCR能力：\n",
    "# https://api.ai.qq.com/fcgi-bin/ocr/ocr_generalocr\n",
    "# 手写OCR \n",
    "url = 'https://api.ai.qq.com/fcgi-bin/ocr/ocr_handwritingocr'"
   ]
  },
  {
   "cell_type": "markdown",
   "metadata": {},
   "source": [
    "### # getReqSign ：根据 接口请求参数 和 应用密钥 计算 请求签名"
   ]
  },
  {
   "cell_type": "code",
   "execution_count": 7,
   "metadata": {},
   "outputs": [],
   "source": [
    "import sys\n",
    "stdi, stdo, stde = sys.stdin, sys.stdout, sys.stderr\n",
    "reload(sys)\n",
    "sys.setdefaultencoding('utf-8')\n",
    "sys.stdin, sys.stdout, sys.stderr = stdi, stdo, stde\n",
    "\n",
    "import hashlib  \n",
    "import time  \n",
    "import random  \n",
    "import string\n",
    "import base64  \n",
    "import requests\n",
    "import cv2\n",
    "import numpy as np\n",
    "from urllib import urlencode\n",
    "import json "
   ]
  },
  {
   "cell_type": "code",
   "execution_count": 11,
   "metadata": {},
   "outputs": [],
   "source": [
    "url = 'https://api.ai.qq.com/fcgi-bin/ocr/ocr_handwritingocr'  \n",
    "# url = 'https://api.ai.qq.com/fcgi-bin/ocr/ocr_generalocr'  \n",
    "\n",
    "path   = '/Users/zhoudaoxian/Desktop/test.jpg'"
   ]
  },
  {
   "cell_type": "code",
   "execution_count": 9,
   "metadata": {},
   "outputs": [],
   "source": [
    "def get_params(img):\n",
    "    time_stamp=str(int(time.time())) \n",
    "    nonce_str = ''.join(str(random.choice(range(10))) for _ in range(10))\n",
    "    params = {'app_id':appid,                #请求包，需要根据不同的任务修改，基本相同\n",
    "              'image':img,                    #文字类的任务可能是‘text’，由主函数传递进来\n",
    "              'time_stamp':time_stamp,        #时间戳，都一样\n",
    "              'nonce_str':nonce_str,          #随机字符串，都一样\n",
    "             }\n",
    "    sort_dict= sorted(params.items(), key=lambda item:item[0], reverse = False)  #字典排序\n",
    "    sort_dict.append(('app_key',appkey))   #尾部添加appkey\n",
    "    rawtext= urlencode(sort_dict).encode()  #urlencod编码\n",
    "    sha = hashlib.md5()    \n",
    "    sha.update(rawtext)\n",
    "    md5text= sha.hexdigest().upper()        #MD5加密计算\n",
    "    params['sign']=md5text                  #将签名赋值到sign\n",
    "    return  params                          #返回请求包"
   ]
  },
  {
   "cell_type": "code",
   "execution_count": 10,
   "metadata": {},
   "outputs": [],
   "source": [
    "#用opencv读入图片\n",
    "def txocr(path):\n",
    "    frame=cv2.imread(path)\n",
    "    nparry_encode = cv2.imencode('.jpg', frame)[1]\n",
    "    data_encode = np.array(nparry_encode)\n",
    "    img = base64.b64encode(data_encode)    #得到API可以识别的字符串\n",
    "    params = get_params(img)    #获取鉴权签名并获取请求参数\n",
    "    res = requests.post(url,params).json()\n",
    "    if res:\n",
    "        return res\n",
    "    return None"
   ]
  },
  {
   "cell_type": "code",
   "execution_count": 14,
   "metadata": {},
   "outputs": [
    {
     "name": "stdout",
     "output_type": "stream",
     "text": [
      "{'time_stamp': '1551950919', 'image': None, 'nonce_str': '1451402990', 'app_id': '2111435318', 'sign': 'B0175AAD2074A7D449FC947A7D82DAE0'}\n"
     ]
    }
   ],
   "source": [
    "params = get_params(img)\n",
    "print(params)\n",
    "res = txocr(path)"
   ]
  },
  {
   "cell_type": "code",
   "execution_count": 13,
   "metadata": {},
   "outputs": [
    {
     "name": "stdout",
     "output_type": "stream",
     "text": [
      "1\n",
      "回腾讯图像识别+本地ocr.ipyn X\n",
      "[u'item', u'itemstring', u'itemcoord', u'words']\n",
      "item\n",
      "\n",
      "itemstring\n",
      "回腾讯图像识别+本地ocr.ipyn X\n",
      "itemcoord\n",
      "[{u'y': 20, u'x': 21, u'height': 30, u'width': 388}]\n",
      "words\n",
      "[{u'confidence': 0.403824, u'character': u'\\u56de'}, {u'confidence': 0.999777, u'character': u'\\u817e'}, {u'confidence': 0.999945, u'character': u'\\u8baf'}, {u'confidence': 0.999725, u'character': u'\\u56fe'}, {u'confidence': 0.99874, u'character': u'\\u50cf'}, {u'confidence': 0.999931, u'character': u'\\u8bc6'}, {u'confidence': 0.999527, u'character': u'\\u522b'}, {u'confidence': 0.999871, u'character': u'+'}, {u'confidence': 0.999917, u'character': u'\\u672c'}, {u'confidence': 0.999992, u'character': u'\\u5730'}, {u'confidence': 0.94651, u'character': u'o'}, {u'confidence': 0.998367, u'character': u'c'}, {u'confidence': 0.999868, u'character': u'r'}, {u'confidence': 0.953986, u'character': u'.'}, {u'confidence': 0.99505, u'character': u'i'}, {u'confidence': 0.999097, u'character': u'p'}, {u'confidence': 0.999015, u'character': u'y'}, {u'confidence': 0.996707, u'character': u'n'}, {u'confidence': 0.86205, u'character': u'X'}]\n"
     ]
    }
   ],
   "source": [
    "print(len(res['data'][u'item_list']))\n",
    "a = res['data'][u'item_list']\n",
    "for _ in a:\n",
    "    print(_['itemstring'])\n",
    "    break\n",
    "print(a[0].keys())\n",
    "for _ in a[0]:\n",
    "    print(_)\n",
    "    print(a[0][_])"
   ]
  },
  {
   "cell_type": "code",
   "execution_count": null,
   "metadata": {},
   "outputs": [],
   "source": []
  },
  {
   "cell_type": "code",
   "execution_count": null,
   "metadata": {},
   "outputs": [],
   "source": []
  },
  {
   "cell_type": "markdown",
   "metadata": {},
   "source": [
    "## 处理NOdeJS输出文件"
   ]
  },
  {
   "cell_type": "code",
   "execution_count": 11,
   "metadata": {},
   "outputs": [],
   "source": [
    "names = \"/Users/zhoudaoxian/Desktop/frame/data/names.js\"\n",
    "tells = \"/Users/zhoudaoxian/Desktop/frame/data/tells.js\""
   ]
  },
  {
   "cell_type": "markdown",
   "metadata": {},
   "source": [
    "#   taobao 浏览器模拟爬虫"
   ]
  },
  {
   "cell_type": "code",
   "execution_count": 17,
   "metadata": {},
   "outputs": [
    {
     "name": "stdout",
     "output_type": "stream",
     "text": [
      "<!DOCTYPE html>\n",
      "<!--STATUS OK--><html> <head><meta http-equiv=content-type content=text/html;charse\n"
     ]
    }
   ],
   "source": [
    "import requests    #  发送请求必备\n",
    "url = \"https://www.baidu.com\"\n",
    "# http请求\n",
    "response = requests.get(url)\n",
    "# html源码\n",
    "html = response.text\n",
    "print(html[0:100])"
   ]
  },
  {
   "cell_type": "markdown",
   "metadata": {},
   "source": [
    "## 分析页面，找出可以格式化的json 信息"
   ]
  },
  {
   "cell_type": "code",
   "execution_count": null,
   "metadata": {},
   "outputs": [],
   "source": [
    "import re\n",
    "content = re.findall(r'g_page_config = (.*?) g_srp_loadCss',html,re.S)[0].strip()[:-1]\n",
    "#格式化\n",
    "content = json.loads(content)"
   ]
  },
  {
   "cell_type": "markdown",
   "metadata": {},
   "source": [
    "消息的加载方式：同步和异步 前面的36条数据是随网页一同加载，后面12条是通过异步进行加载的"
   ]
  },
  {
   "cell_type": "markdown",
   "metadata": {},
   "source": [
    "cookie保持::"
   ]
  },
  {
   "cell_type": "code",
   "execution_count": 18,
   "metadata": {},
   "outputs": [
    {
     "ename": "NameError",
     "evalue": "name 're' is not defined",
     "output_type": "error",
     "traceback": [
      "\u001b[0;31m---------------------------------------------------------------------------\u001b[0m",
      "\u001b[0;31mNameError\u001b[0m                                 Traceback (most recent call last)",
      "\u001b[0;32m<ipython-input-18-84e18a84099c>\u001b[0m in \u001b[0;36m<module>\u001b[0;34m()\u001b[0m\n\u001b[1;32m      7\u001b[0m \u001b[0mhtml2\u001b[0m\u001b[0;34m=\u001b[0m\u001b[0mresponse2\u001b[0m\u001b[0;34m.\u001b[0m\u001b[0mtext\u001b[0m\u001b[0;34m\u001b[0m\u001b[0m\n\u001b[1;32m      8\u001b[0m \u001b[0;34m\u001b[0m\u001b[0m\n\u001b[0;32m----> 9\u001b[0;31m \u001b[0mcontent\u001b[0m \u001b[0;34m=\u001b[0m \u001b[0mre\u001b[0m\u001b[0;34m.\u001b[0m\u001b[0mfindall\u001b[0m\u001b[0;34m(\u001b[0m\u001b[0;34mr'{.*}'\u001b[0m\u001b[0;34m,\u001b[0m\u001b[0mhtml2\u001b[0m\u001b[0;34m)\u001b[0m\u001b[0;34m[\u001b[0m\u001b[0;36m0\u001b[0m\u001b[0;34m]\u001b[0m\u001b[0;34m\u001b[0m\u001b[0m\n\u001b[0m",
      "\u001b[0;31mNameError\u001b[0m: name 're' is not defined"
     ]
    }
   ],
   "source": [
    "#cookie保持\n",
    "cookies = response.cookies\n",
    "#首页12条异步\n",
    "url2 = 'https://s.taobao.com/api?_ksTS=1524836494360_224&callback=jsonp225&ajax=true&m=customized&sourceId=tb.index&q=python&spm=a21bo.2017.201856-taobao-item.1&s=36&imgfile=&initiative_id=tbindexz_20170306&bcoffset=-1&commend=all&ie=utf8&rn=efedc6cda629c8a38008aff6f017b934&ssid=s5-e&search_type=item'\n",
    " \n",
    "response2 = requests.get(url2,cookies=cookies)\n",
    "html2=response2.text\n",
    " \n",
    "content = re.findall(r'{.*}',html2)[0]"
   ]
  },
  {
   "cell_type": "code",
   "execution_count": null,
   "metadata": {},
   "outputs": [],
   "source": []
  }
 ],
 "metadata": {
  "kernelspec": {
   "display_name": "Python 2",
   "language": "python",
   "name": "python2"
  },
  "language_info": {
   "codemirror_mode": {
    "name": "ipython",
    "version": 2
   },
   "file_extension": ".py",
   "mimetype": "text/x-python",
   "name": "python",
   "nbconvert_exporter": "python",
   "pygments_lexer": "ipython2",
   "version": "2.7.14"
  }
 },
 "nbformat": 4,
 "nbformat_minor": 2
}
