{
 "cells": [
  {
   "cell_type": "code",
   "execution_count": 4,
   "metadata": {},
   "outputs": [],
   "source": [
    "library(dplyr)"
   ]
  },
  {
   "cell_type": "code",
   "execution_count": 7,
   "metadata": {},
   "outputs": [],
   "source": [
    "frame = read.csv(pipe(\"pbpaste\"), sep = \"\\t\", header = T, stringsAsFactors = F)"
   ]
  },
  {
   "cell_type": "markdown",
   "metadata": {},
   "source": [
    "## 会员模板  分成950 个小东西"
   ]
  },
  {
   "cell_type": "code",
   "execution_count": 300,
   "metadata": {},
   "outputs": [
    {
     "name": "stderr",
     "output_type": "stream",
     "text": [
      "Warning message in read.table(pipe(\"pbpaste\"), sep = \"\\t\", header = T, stringsAsFactors = F):\n",
      "“incomplete final line found by readTableHeader on 'pbpaste'”"
     ]
    }
   ],
   "source": [
    "muban = read.table(pipe(\"pbpaste\"), sep = \"\\t\", header = T, stringsAsFactors=F)"
   ]
  },
  {
   "cell_type": "code",
   "execution_count": 313,
   "metadata": {},
   "outputs": [
    {
     "data": {
      "text/html": [
       "<table>\n",
       "<thead><tr><th scope=col>会员号（必填）</th><th scope=col>姓名（必填）</th><th scope=col>积分（必填）</th><th scope=col>折扣（必填）</th><th scope=col>余额（必填）</th><th scope=col>会员等级（必填）</th><th scope=col>电话(必填)</th><th scope=col>密码</th><th scope=col>开卡日期</th><th scope=col>到期日期</th><th scope=col>生日</th><th scope=col>电子邮箱</th><th scope=col>QQ</th><th scope=col>地址</th><th scope=col>备注</th><th scope=col>允许赊账</th><th scope=col>状态</th></tr></thead>\n",
       "<tbody>\n",
       "\t<tr><td>10008      </td><td>赫建春     </td><td>0          </td><td>100        </td><td>1          </td><td>普通       </td><td>13520897669</td><td>NA         </td><td>2010/3/11  </td><td>NA         </td><td>NA         </td><td>NA         </td><td>NA         </td><td>NA         </td><td>NA         </td><td>NA         </td><td>NA         </td></tr>\n",
       "</tbody>\n",
       "</table>\n"
      ],
      "text/latex": [
       "\\begin{tabular}{r|lllllllllllllllll}\n",
       " 会员号（必填） & 姓名（必填） & 积分（必填） & 折扣（必填） & 余额（必填） & 会员等级（必填） & 电话(必填) & 密码 & 开卡日期 & 到期日期 & 生日 & 电子邮箱 & QQ & 地址 & 备注 & 允许赊账 & 状态\\\\\n",
       "\\hline\n",
       "\t 10008       & 赫建春      & 0           & 100         & 1           & 普通        & 13520897669 & NA          & 2010/3/11   & NA          & NA          & NA          & NA          & NA          & NA          & NA          & NA         \\\\\n",
       "\\end{tabular}\n"
      ],
      "text/markdown": [
       "\n",
       "| 会员号（必填） | 姓名（必填） | 积分（必填） | 折扣（必填） | 余额（必填） | 会员等级（必填） | 电话(必填) | 密码 | 开卡日期 | 到期日期 | 生日 | 电子邮箱 | QQ | 地址 | 备注 | 允许赊账 | 状态 |\n",
       "|---|---|---|---|---|---|---|---|---|---|---|---|---|---|---|---|---|\n",
       "| 10008       | 赫建春      | 0           | 100         | 1           | 普通        | 13520897669 | NA          | 2010/3/11   | NA          | NA          | NA          | NA          | NA          | NA          | NA          | NA          |\n",
       "\n"
      ],
      "text/plain": [
       "  会员号（必填） 姓名（必填） 积分（必填） 折扣（必填） 余额（必填）\n",
       "1 10008          赫建春       0            100          1           \n",
       "  会员等级（必填） 电话(必填)  密码 开卡日期  到期日期 生日 电子邮箱 QQ 地址\n",
       "1 普通             13520897669 NA   2010/3/11 NA       NA   NA       NA NA  \n",
       "  备注 允许赊账 状态\n",
       "1 NA   NA       NA  "
      ]
     },
     "metadata": {},
     "output_type": "display_data"
    }
   ],
   "source": [
    "muban"
   ]
  },
  {
   "cell_type": "code",
   "execution_count": 311,
   "metadata": {},
   "outputs": [],
   "source": [
    "muban$`会员等级（必填）`= '普通'"
   ]
  },
  {
   "cell_type": "code",
   "execution_count": 304,
   "metadata": {},
   "outputs": [],
   "source": [
    "names(muban) = c(\"会员号（必填）\",\"姓名（必填）\",\"积分（必填）\",\"折扣（必填）\",\"余额（必填）\",\"会员等级（必填）\",\"电话(必填)\",\n",
    "                 \"密码\",\"开卡日期\",\"到期日期\",\"生日\",\"电子邮箱\",\"QQ\",\"地址\",\"备注\",\"允许赊账\",\"状态\")"
   ]
  },
  {
   "cell_type": "code",
   "execution_count": 312,
   "metadata": {},
   "outputs": [],
   "source": [
    "openxlsx::write.xlsx(muban,\"~/Desktop/testxlsx.xlsx\")"
   ]
  },
  {
   "cell_type": "code",
   "execution_count": 318,
   "metadata": {},
   "outputs": [],
   "source": [
    "t = data.frame(\n",
    "        \"会员号（必填）\" = 1,\n",
    "        \"姓名（必填）\" = templat$name, \n",
    "        \"积分（必填）\" = 0,\n",
    "        \"折扣（必填）\" = 100,\n",
    "        \"余额（必填）\" = 0,\n",
    "        \"会员等级（必填）\" = '普通',\n",
    "        \"电话(必填)\" = templat$tell,\n",
    "        \"密码\" = NA,\n",
    "        \"开卡日期\" = templat$日期,\n",
    "        \"到期日期\" = NA,\n",
    "        \"生日\" = NA, \"电子邮箱\" = NA,  \"QQ\" = NA,     \"地址\" = NA,  \"备注\" = NA, \"允许赊账\" = NA, \"状态\" = NA\n",
    "         )"
   ]
  },
  {
   "cell_type": "code",
   "execution_count": 324,
   "metadata": {},
   "outputs": [],
   "source": [
    "t$`会员号（必填）` = 100000 + seq(1:nrow(t))"
   ]
  },
  {
   "cell_type": "code",
   "execution_count": 326,
   "metadata": {},
   "outputs": [
    {
     "data": {
      "text/html": [
       "<table>\n",
       "<thead><tr><th scope=col>会员号（必填）</th><th scope=col>姓名（必填）</th><th scope=col>积分（必填）</th><th scope=col>折扣（必填）</th><th scope=col>余额（必填）</th><th scope=col>会员等级（必填）</th><th scope=col>电话(必填)</th><th scope=col>密码</th><th scope=col>开卡日期</th><th scope=col>到期日期</th><th scope=col>生日</th><th scope=col>电子邮箱</th><th scope=col>QQ</th><th scope=col>地址</th><th scope=col>备注</th><th scope=col>允许赊账</th><th scope=col>状态</th></tr></thead>\n",
       "<tbody>\n",
       "\t<tr><td>100001     </td><td>王雨伊伊   </td><td>0          </td><td>100        </td><td>0          </td><td>普通       </td><td>18611922274</td><td>NA         </td><td>2014/3/12  </td><td>NA         </td><td>NA         </td><td>NA         </td><td>NA         </td><td>NA         </td><td>NA         </td><td>NA         </td><td>NA         </td></tr>\n",
       "\t<tr><td>100002     </td><td>外国朋友   </td><td>0          </td><td>100        </td><td>0          </td><td>普通       </td><td>13521700081</td><td>NA         </td><td>2016/5/3   </td><td>NA         </td><td>NA         </td><td>NA         </td><td>NA         </td><td>NA         </td><td>NA         </td><td>NA         </td><td>NA         </td></tr>\n",
       "\t<tr><td>100003     </td><td>王姐朋友   </td><td>0          </td><td>100        </td><td>0          </td><td>普通       </td><td>13521700081</td><td>NA         </td><td>2016/5/3   </td><td>NA         </td><td>NA         </td><td>NA         </td><td>NA         </td><td>NA         </td><td>NA         </td><td>NA         </td><td>NA         </td></tr>\n",
       "</tbody>\n",
       "</table>\n"
      ],
      "text/latex": [
       "\\begin{tabular}{r|lllllllllllllllll}\n",
       " 会员号（必填） & 姓名（必填） & 积分（必填） & 折扣（必填） & 余额（必填） & 会员等级（必填） & 电话(必填) & 密码 & 开卡日期 & 到期日期 & 生日 & 电子邮箱 & QQ & 地址 & 备注 & 允许赊账 & 状态\\\\\n",
       "\\hline\n",
       "\t 100001      & 王雨伊伊    & 0           & 100         & 0           & 普通        & 18611922274 & NA          & 2014/3/12   & NA          & NA          & NA          & NA          & NA          & NA          & NA          & NA         \\\\\n",
       "\t 100002      & 外国朋友    & 0           & 100         & 0           & 普通        & 13521700081 & NA          & 2016/5/3    & NA          & NA          & NA          & NA          & NA          & NA          & NA          & NA         \\\\\n",
       "\t 100003      & 王姐朋友    & 0           & 100         & 0           & 普通        & 13521700081 & NA          & 2016/5/3    & NA          & NA          & NA          & NA          & NA          & NA          & NA          & NA         \\\\\n",
       "\\end{tabular}\n"
      ],
      "text/markdown": [
       "\n",
       "| 会员号（必填） | 姓名（必填） | 积分（必填） | 折扣（必填） | 余额（必填） | 会员等级（必填） | 电话(必填) | 密码 | 开卡日期 | 到期日期 | 生日 | 电子邮箱 | QQ | 地址 | 备注 | 允许赊账 | 状态 |\n",
       "|---|---|---|---|---|---|---|---|---|---|---|---|---|---|---|---|---|\n",
       "| 100001      | 王雨伊伊    | 0           | 100         | 0           | 普通        | 18611922274 | NA          | 2014/3/12   | NA          | NA          | NA          | NA          | NA          | NA          | NA          | NA          |\n",
       "| 100002      | 外国朋友    | 0           | 100         | 0           | 普通        | 13521700081 | NA          | 2016/5/3    | NA          | NA          | NA          | NA          | NA          | NA          | NA          | NA          |\n",
       "| 100003      | 王姐朋友    | 0           | 100         | 0           | 普通        | 13521700081 | NA          | 2016/5/3    | NA          | NA          | NA          | NA          | NA          | NA          | NA          | NA          |\n",
       "\n"
      ],
      "text/plain": [
       "  会员号（必填） 姓名（必填） 积分（必填） 折扣（必填） 余额（必填）\n",
       "1 100001         王雨伊伊     0            100          0           \n",
       "2 100002         外国朋友     0            100          0           \n",
       "3 100003         王姐朋友     0            100          0           \n",
       "  会员等级（必填） 电话(必填)  密码 开卡日期  到期日期 生日 电子邮箱 QQ 地址\n",
       "1 普通             18611922274 NA   2014/3/12 NA       NA   NA       NA NA  \n",
       "2 普通             13521700081 NA   2016/5/3  NA       NA   NA       NA NA  \n",
       "3 普通             13521700081 NA   2016/5/3  NA       NA   NA       NA NA  \n",
       "  备注 允许赊账 状态\n",
       "1 NA   NA       NA  \n",
       "2 NA   NA       NA  \n",
       "3 NA   NA       NA  "
      ]
     },
     "metadata": {},
     "output_type": "display_data"
    }
   ],
   "source": [
    "t[1:3,]"
   ]
  },
  {
   "cell_type": "code",
   "execution_count": 275,
   "metadata": {},
   "outputs": [],
   "source": [
    "# templat = read.table(pipe(\"pbpaste\"), sep = \"\\t\", header = T, stringsAsFactors=F)"
   ]
  },
  {
   "cell_type": "code",
   "execution_count": 327,
   "metadata": {},
   "outputs": [],
   "source": [
    "templat = t"
   ]
  },
  {
   "cell_type": "code",
   "execution_count": 328,
   "metadata": {},
   "outputs": [
    {
     "name": "stdout",
     "output_type": "stream",
     "text": [
      "[1] \"/Users/zhoudaoxian/Documents/frame_s/f_1.xlsx\"\n",
      "[1] \"/Users/zhoudaoxian/Documents/frame_s/f_2.xlsx\"\n",
      "[1] \"/Users/zhoudaoxian/Documents/frame_s/f_3.xlsx\"\n",
      "[1] \"/Users/zhoudaoxian/Documents/frame_s/f_4.xlsx\"\n",
      "[1] \"/Users/zhoudaoxian/Documents/frame_s/f_5.xlsx\"\n",
      "[1] \"/Users/zhoudaoxian/Documents/frame_s/f_6.xlsx\"\n",
      "[1] \"/Users/zhoudaoxian/Documents/frame_s/f_7.xlsx\"\n",
      "[1] \"/Users/zhoudaoxian/Documents/frame_s/f_8.xlsx\"\n",
      "[1] \"/Users/zhoudaoxian/Documents/frame_s/f_9.xlsx\"\n",
      "[1] \"/Users/zhoudaoxian/Documents/frame_s/f_10.xlsx\"\n",
      "[1] \"/Users/zhoudaoxian/Documents/frame_s/f_11.xlsx\"\n",
      "[1] \"/Users/zhoudaoxian/Documents/frame_s/f_12.xlsx\"\n",
      "[1] \"/Users/zhoudaoxian/Documents/frame_s/f_13.xlsx\"\n",
      "[1] \"/Users/zhoudaoxian/Documents/frame_s/f_14.xlsx\"\n",
      "[1] \"/Users/zhoudaoxian/Documents/frame_s/f_15.xlsx\"\n",
      "[1] \"/Users/zhoudaoxian/Documents/frame_s/f_16.xlsx\"\n",
      "[1] \"/Users/zhoudaoxian/Documents/frame_s/f_17.xlsx\"\n",
      "[1] \"/Users/zhoudaoxian/Documents/frame_s/f_18.xlsx\"\n",
      "[1] \"/Users/zhoudaoxian/Documents/frame_s/f_19.xlsx\"\n",
      "[1] \"/Users/zhoudaoxian/Documents/frame_s/f_20.xlsx\"\n",
      "[1] \"/Users/zhoudaoxian/Documents/frame_s/f_21.xlsx\"\n",
      "[1] \"/Users/zhoudaoxian/Documents/frame_s/f_22.xlsx\"\n",
      "[1] \"/Users/zhoudaoxian/Documents/frame_s/f_23.xlsx\"\n",
      "[1] \"/Users/zhoudaoxian/Documents/frame_s/f_24.xlsx\"\n",
      "[1] \"/Users/zhoudaoxian/Documents/frame_s/f_25.xlsx\"\n",
      "[1] \"/Users/zhoudaoxian/Documents/frame_s/f_26.xlsx\"\n",
      "[1] \"/Users/zhoudaoxian/Documents/frame_s/f_27.xlsx\"\n",
      "[1] \"/Users/zhoudaoxian/Documents/frame_s/f_28.xlsx\"\n",
      "[1] \"/Users/zhoudaoxian/Documents/frame_s/f_29.xlsx\"\n",
      "[1] \"/Users/zhoudaoxian/Documents/frame_s/f_30.xlsx\"\n",
      "[1] \"/Users/zhoudaoxian/Documents/frame_s/f_31.xlsx\"\n",
      "[1] \"/Users/zhoudaoxian/Documents/frame_s/f_32.xlsx\"\n",
      "[1] \"/Users/zhoudaoxian/Documents/frame_s/f_33.xlsx\"\n",
      "[1] \"/Users/zhoudaoxian/Documents/frame_s/f_34.xlsx\"\n",
      "[1] \"/Users/zhoudaoxian/Documents/frame_s/f_35.xlsx\"\n",
      "[1] \"/Users/zhoudaoxian/Documents/frame_s/f_36.xlsx\"\n",
      "[1] \"/Users/zhoudaoxian/Documents/frame_s/f_37.xlsx\"\n",
      "[1] \"/Users/zhoudaoxian/Documents/frame_s/f_38.xlsx\"\n",
      "[1] \"/Users/zhoudaoxian/Documents/frame_s/f_39.xlsx\"\n",
      "[1] \"/Users/zhoudaoxian/Documents/frame_s/f_40.xlsx\"\n",
      "[1] \"/Users/zhoudaoxian/Documents/frame_s/f_41.xlsx\"\n",
      "[1] \"/Users/zhoudaoxian/Documents/frame_s/f_42.xlsx\"\n",
      "[1] \"/Users/zhoudaoxian/Documents/frame_s/f_43.xlsx\"\n",
      "[1] \"/Users/zhoudaoxian/Documents/frame_s/f_44.xlsx\"\n"
     ]
    }
   ],
   "source": [
    "st = 1\n",
    "end = 950\n",
    "for (i in 1:44) {\n",
    "    filename = paste(\"/Users/zhoudaoxian/Documents/frame_s/f\",i,sep = '_')\n",
    "    filename = paste(filename,'xlsx',sep = \".\")\n",
    "    print(filename)    \n",
    "    if (end>nrow(templat) & st < nrow(templat) ){\n",
    "        temp = templat[st:nrow(templat), ]\n",
    "        openxlsx::write.xlsx(x = temp,file = filename)\n",
    "        break;\n",
    "    }\n",
    "    temp = templat[st:end, ]\n",
    "    openxlsx::write.xlsx(x = temp,file = filename)\n",
    "    st = st+950\n",
    "    end = end+950\n",
    "}"
   ]
  },
  {
   "cell_type": "code",
   "execution_count": 294,
   "metadata": {},
   "outputs": [
    {
     "data": {
      "text/html": [
       "TRUE"
      ],
      "text/latex": [
       "TRUE"
      ],
      "text/markdown": [
       "TRUE"
      ],
      "text/plain": [
       "[1] TRUE"
      ]
     },
     "metadata": {},
     "output_type": "display_data"
    }
   ],
   "source": [
    "41820>nrow(templat) & 41132 < nrow(templat)"
   ]
  },
  {
   "cell_type": "code",
   "execution_count": 276,
   "metadata": {},
   "outputs": [
    {
     "data": {
      "text/html": [
       "41136"
      ],
      "text/latex": [
       "41136"
      ],
      "text/markdown": [
       "41136"
      ],
      "text/plain": [
       "[1] 41136"
      ]
     },
     "metadata": {},
     "output_type": "display_data"
    }
   ],
   "source": [
    "nrow(templat)"
   ]
  },
  {
   "cell_type": "code",
   "execution_count": 284,
   "metadata": {},
   "outputs": [
    {
     "data": {
      "text/html": [
       "'character'"
      ],
      "text/latex": [
       "'character'"
      ],
      "text/markdown": [
       "'character'"
      ],
      "text/plain": [
       "[1] \"character\""
      ]
     },
     "metadata": {},
     "output_type": "display_data"
    },
    {
     "name": "stdout",
     "output_type": "stream",
     "text": [
      "[1] \"filename_2\"\n"
     ]
    }
   ],
   "source": [
    "x <- 1:10\n",
    "filename = paste('temp',1)\n",
    "i = 2\n",
    "text = paste(\"filename\",i,sep = '_')\n",
    "\n",
    "class (text)\n",
    "print(text)\n",
    "# eval(parse(text = text))"
   ]
  },
  {
   "cell_type": "code",
   "execution_count": 54,
   "metadata": {},
   "outputs": [
    {
     "data": {
      "text/plain": [
       "\n",
       "FALSE  TRUE \n",
       "34396    91 "
      ]
     },
     "metadata": {},
     "output_type": "display_data"
    },
    {
     "data": {
      "text/plain": [
       "\n",
       "FALSE  TRUE \n",
       " 1747 32740 "
      ]
     },
     "metadata": {},
     "output_type": "display_data"
    }
   ],
   "source": [
    "table(is.na(frame$tell))\n",
    "table(is.na(frame$name))"
   ]
  },
  {
   "cell_type": "code",
   "execution_count": null,
   "metadata": {},
   "outputs": [],
   "source": []
  },
  {
   "cell_type": "markdown",
   "metadata": {},
   "source": [
    "## 已经通过支付宝导入的"
   ]
  },
  {
   "cell_type": "code",
   "execution_count": 130,
   "metadata": {},
   "outputs": [],
   "source": [
    "name = \"/Users/zhoudaoxian/Desktop/frame/data/names.js\"\n",
    "tell = \"/Users/zhoudaoxian/Desktop/frame/data/tells.js\""
   ]
  },
  {
   "cell_type": "code",
   "execution_count": 131,
   "metadata": {},
   "outputs": [
    {
     "data": {
      "text/html": [
       "<ol class=list-inline>\n",
       "\t<li>' 130******23'</li>\n",
       "\t<li>' 玲'</li>\n",
       "\t<li>' 全保'</li>\n",
       "\t<li>' 杨亚丽'</li>\n",
       "</ol>\n"
      ],
      "text/latex": [
       "\\begin{enumerate*}\n",
       "\\item ' 130******23'\n",
       "\\item ' 玲'\n",
       "\\item ' 全保'\n",
       "\\item ' 杨亚丽'\n",
       "\\end{enumerate*}\n"
      ],
      "text/markdown": [
       "1. ' 130******23'\n",
       "2. ' 玲'\n",
       "3. ' 全保'\n",
       "4. ' 杨亚丽'\n",
       "\n",
       "\n"
      ],
      "text/plain": [
       "[1] \" 130******23\" \" 玲\"          \" 全保\"        \" 杨亚丽\"     "
      ]
     },
     "metadata": {},
     "output_type": "display_data"
    },
    {
     "data": {
      "text/html": [
       "<ol class=list-inline>\n",
       "\t<li>'13001071223NA'</li>\n",
       "\t<li>'13020067153NA'</li>\n",
       "</ol>\n"
      ],
      "text/latex": [
       "\\begin{enumerate*}\n",
       "\\item '13001071223NA'\n",
       "\\item '13020067153NA'\n",
       "\\end{enumerate*}\n"
      ],
      "text/markdown": [
       "1. '13001071223NA'\n",
       "2. '13020067153NA'\n",
       "\n",
       "\n"
      ],
      "text/plain": [
       "[1] \"13001071223NA\" \"13020067153NA\""
      ]
     },
     "metadata": {},
     "output_type": "display_data"
    }
   ],
   "source": [
    "name = read.csv(name, stringsAsFactors = F, header = T)\n",
    "tell = read.csv(tell, stringsAsFactors = F, header = T)\n",
    "tell$tellsList = substring(tell$tellsList,1,11)\n",
    "name[1:4,]\n",
    "tell[1:2,]"
   ]
  },
  {
   "cell_type": "code",
   "execution_count": 149,
   "metadata": {},
   "outputs": [],
   "source": [
    "name = rbind(name, name[761:762,])\n",
    "fname = data.frame('name' = name$namesList, 'tell' = tell$tellsList)"
   ]
  },
  {
   "cell_type": "code",
   "execution_count": 151,
   "metadata": {},
   "outputs": [
    {
     "data": {
      "text/html": [
       "<table>\n",
       "<thead><tr><th scope=col>name</th><th scope=col>tell</th></tr></thead>\n",
       "<tbody>\n",
       "\t<tr><td> 130******23</td><td>13001071223 </td></tr>\n",
       "\t<tr><td> 玲         </td><td>13020067153 </td></tr>\n",
       "\t<tr><td> 全保       </td><td>13031118807 </td></tr>\n",
       "\t<tr><td> 杨亚丽     </td><td>13051005375 </td></tr>\n",
       "</tbody>\n",
       "</table>\n"
      ],
      "text/latex": [
       "\\begin{tabular}{r|ll}\n",
       " name & tell\\\\\n",
       "\\hline\n",
       "\t  130******23 & 13001071223 \\\\\n",
       "\t  玲          & 13020067153 \\\\\n",
       "\t  全保        & 13031118807 \\\\\n",
       "\t  杨亚丽      & 13051005375 \\\\\n",
       "\\end{tabular}\n"
      ],
      "text/markdown": [
       "\n",
       "| name | tell |\n",
       "|---|---|\n",
       "|  130******23 | 13001071223  |\n",
       "|  玲          | 13020067153  |\n",
       "|  全保        | 13031118807  |\n",
       "|  杨亚丽      | 13051005375  |\n",
       "\n"
      ],
      "text/plain": [
       "  name         tell       \n",
       "1  130******23 13001071223\n",
       "2  玲          13020067153\n",
       "3  全保        13031118807\n",
       "4  杨亚丽      13051005375"
      ]
     },
     "metadata": {},
     "output_type": "display_data"
    }
   ],
   "source": [
    "fname[1:4,]"
   ]
  },
  {
   "cell_type": "code",
   "execution_count": 165,
   "metadata": {},
   "outputs": [],
   "source": [
    "names(nbook2)[2] = 'tell'\n",
    "nbook2$tell = as.character(nbook2$tell)\n",
    "fname$tell = as.character(fname$tell)\n",
    "nbook = left_join(nbook2, fname, 'tell')"
   ]
  },
  {
   "cell_type": "markdown",
   "metadata": {},
   "source": [
    "## 导出未完成的，然后导入手机  使用谷歌通讯录，变成vcad,"
   ]
  },
  {
   "cell_type": "code",
   "execution_count": 168,
   "metadata": {},
   "outputs": [],
   "source": [
    "write.csv(nbook_on[1:1000,],\"~/Desktop/nbook2.csv\", row.names = F, ,quote=F)"
   ]
  },
  {
   "cell_type": "markdown",
   "metadata": {},
   "source": [
    "### 导出第二份"
   ]
  },
  {
   "cell_type": "code",
   "execution_count": 5,
   "metadata": {},
   "outputs": [],
   "source": [
    "frame2 = read.csv(\"~/Desktop/frame2.csv\",  header = F, stringsAsFactors=F)"
   ]
  },
  {
   "cell_type": "code",
   "execution_count": 18,
   "metadata": {},
   "outputs": [],
   "source": [
    "names(frame2) = c(\"name\",\"date\",\"filename\")\n",
    "l = nchar(frame2[,'name'])\n",
    "frame2$tell = substring(frame2[,'name'],l-10,l)"
   ]
  },
  {
   "cell_type": "code",
   "execution_count": 19,
   "metadata": {},
   "outputs": [
    {
     "data": {
      "text/html": [
       "<table>\n",
       "<thead><tr><th scope=col>name</th><th scope=col>date</th><th scope=col>filename</th><th scope=col>tell</th></tr></thead>\n",
       "<tbody>\n",
       "\t<tr><td>陈杨13810039436                </td><td>2014/3/12                      </td><td>照片 2014-3-12 7.37.48 下午.jpg</td><td>13810039436                    </td></tr>\n",
       "</tbody>\n",
       "</table>\n"
      ],
      "text/latex": [
       "\\begin{tabular}{r|llll}\n",
       " name & date & filename & tell\\\\\n",
       "\\hline\n",
       "\t 陈杨13810039436                 & 2014/3/12                       & 照片 2014-3-12 7.37.48 下午.jpg & 13810039436                    \\\\\n",
       "\\end{tabular}\n"
      ],
      "text/markdown": [
       "\n",
       "| name | date | filename | tell |\n",
       "|---|---|---|---|\n",
       "| 陈杨13810039436                 | 2014/3/12                       | 照片 2014-3-12 7.37.48 下午.jpg | 13810039436                     |\n",
       "\n"
      ],
      "text/plain": [
       "  name            date      filename                        tell       \n",
       "1 陈杨13810039436 2014/3/12 照片 2014-3-12 7.37.48 下午.jpg 13810039436"
      ]
     },
     "metadata": {},
     "output_type": "display_data"
    }
   ],
   "source": [
    "\n",
    "frame2[1,]"
   ]
  },
  {
   "cell_type": "code",
   "execution_count": 21,
   "metadata": {},
   "outputs": [],
   "source": [
    "write.csv(frame2 ,\"~/Desktop/客户资料2.csv\", row.names = F, ,quote=F, fileEncoding='utf-8')"
   ]
  },
  {
   "cell_type": "markdown",
   "metadata": {},
   "source": [
    "## 分析数据"
   ]
  },
  {
   "cell_type": "code",
   "execution_count": 68,
   "metadata": {},
   "outputs": [],
   "source": [
    "bid = read.csv(\"~/Desktop/BidComments_export_data_1554106603358-poor.csv\", stringsAsFactors = F)"
   ]
  },
  {
   "cell_type": "code",
   "execution_count": 69,
   "metadata": {},
   "outputs": [
    {
     "data": {
      "text/html": [
       "<table>\n",
       "<thead><tr><th scope=col>id</th><th scope=col>user_id</th><th scope=col>goods_id</th><th scope=col>sku_no</th><th scope=col>order_id</th><th scope=col>rate</th><th scope=col>score</th><th scope=col>content</th><th scope=col>merchant_id</th><th scope=col>created_at</th><th scope=col>updated_at</th><th scope=col>X.version</th><th scope=col>X.timestamp</th></tr></thead>\n",
       "<tbody>\n",
       "\t<tr><td>24165                               </td><td>15659542                            </td><td>31388                               </td><td>1210B                               </td><td>b49b7305-27cd-45df-a66f-b19b162da53e</td><td>3                                   </td><td>1                                   </td><td>Never received it                   </td><td>396                                 </td><td>2019-04-01T06:25:21.000Z            </td><td>2019-04-01T06:25:21.000Z            </td><td>1                                   </td><td>2019-04-01T06:31:00.337Z            </td></tr>\n",
       "\t<tr><td>24157                               </td><td>16475972                            </td><td>46938                               </td><td>TY180                               </td><td>7d526c9e-791a-4711-9f4d-5d2f5d7815c6</td><td>3                                   </td><td>1                                   </td><td>No weight to it,                    </td><td>455                                 </td><td>2019-04-01T04:55:34.000Z            </td><td>2019-04-01T04:55:34.000Z            </td><td>1                                   </td><td>2019-04-01T05:01:00.377Z            </td></tr>\n",
       "</tbody>\n",
       "</table>\n"
      ],
      "text/latex": [
       "\\begin{tabular}{r|lllllllllllll}\n",
       " id & user\\_id & goods\\_id & sku\\_no & order\\_id & rate & score & content & merchant\\_id & created\\_at & updated\\_at & X.version & X.timestamp\\\\\n",
       "\\hline\n",
       "\t 24165                                & 15659542                             & 31388                                & 1210B                                & b49b7305-27cd-45df-a66f-b19b162da53e & 3                                    & 1                                    & Never received it                    & 396                                  & 2019-04-01T06:25:21.000Z             & 2019-04-01T06:25:21.000Z             & 1                                    & 2019-04-01T06:31:00.337Z            \\\\\n",
       "\t 24157                                & 16475972                             & 46938                                & TY180                                & 7d526c9e-791a-4711-9f4d-5d2f5d7815c6 & 3                                    & 1                                    & No weight to it,                     & 455                                  & 2019-04-01T04:55:34.000Z             & 2019-04-01T04:55:34.000Z             & 1                                    & 2019-04-01T05:01:00.377Z            \\\\\n",
       "\\end{tabular}\n"
      ],
      "text/markdown": [
       "\n",
       "| id | user_id | goods_id | sku_no | order_id | rate | score | content | merchant_id | created_at | updated_at | X.version | X.timestamp |\n",
       "|---|---|---|---|---|---|---|---|---|---|---|---|---|\n",
       "| 24165                                | 15659542                             | 31388                                | 1210B                                | b49b7305-27cd-45df-a66f-b19b162da53e | 3                                    | 1                                    | Never received it                    | 396                                  | 2019-04-01T06:25:21.000Z             | 2019-04-01T06:25:21.000Z             | 1                                    | 2019-04-01T06:31:00.337Z             |\n",
       "| 24157                                | 16475972                             | 46938                                | TY180                                | 7d526c9e-791a-4711-9f4d-5d2f5d7815c6 | 3                                    | 1                                    | No weight to it,                     | 455                                  | 2019-04-01T04:55:34.000Z             | 2019-04-01T04:55:34.000Z             | 1                                    | 2019-04-01T05:01:00.377Z             |\n",
       "\n"
      ],
      "text/plain": [
       "  id    user_id  goods_id sku_no order_id                             rate\n",
       "1 24165 15659542 31388    1210B  b49b7305-27cd-45df-a66f-b19b162da53e 3   \n",
       "2 24157 16475972 46938    TY180  7d526c9e-791a-4711-9f4d-5d2f5d7815c6 3   \n",
       "  score content           merchant_id created_at              \n",
       "1 1     Never received it 396         2019-04-01T06:25:21.000Z\n",
       "2 1     No weight to it,  455         2019-04-01T04:55:34.000Z\n",
       "  updated_at               X.version X.timestamp             \n",
       "1 2019-04-01T06:25:21.000Z 1         2019-04-01T06:31:00.337Z\n",
       "2 2019-04-01T04:55:34.000Z 1         2019-04-01T05:01:00.377Z"
      ]
     },
     "metadata": {},
     "output_type": "display_data"
    }
   ],
   "source": [
    "# 预览数据\n",
    "bid[1:2,]"
   ]
  },
  {
   "cell_type": "code",
   "execution_count": 70,
   "metadata": {},
   "outputs": [
    {
     "data": {
      "text/html": [
       "<table>\n",
       "<tbody>\n",
       "\t<tr><td>id         </td><td>user_id    </td><td>goods_id   </td><td>sku_no     </td><td>order_id   </td><td>rate       </td><td>score      </td><td>content    </td><td>merchant_id</td><td>created_at </td><td>updated_at </td><td>X.version  </td><td>X.timestamp</td></tr>\n",
       "</tbody>\n",
       "</table>\n"
      ],
      "text/latex": [
       "\\begin{tabular}{lllllllllllll}\n",
       "\t id            & user\\_id     & goods\\_id    & sku\\_no      & order\\_id    & rate          & score         & content       & merchant\\_id & created\\_at  & updated\\_at  & X.version     & X.timestamp  \\\\\n",
       "\\end{tabular}\n"
      ],
      "text/markdown": [
       "\n",
       "| id          | user_id     | goods_id    | sku_no      | order_id    | rate        | score       | content     | merchant_id | created_at  | updated_at  | X.version   | X.timestamp |\n",
       "\n"
      ],
      "text/plain": [
       "     [,1] [,2]    [,3]     [,4]   [,5]     [,6] [,7]  [,8]    [,9]       \n",
       "[1,] id   user_id goods_id sku_no order_id rate score content merchant_id\n",
       "     [,10]      [,11]      [,12]     [,13]      \n",
       "[1,] created_at updated_at X.version X.timestamp"
      ]
     },
     "metadata": {},
     "output_type": "display_data"
    }
   ],
   "source": [
    "t(names(bid)) # excel 列名"
   ]
  },
  {
   "cell_type": "code",
   "execution_count": 71,
   "metadata": {},
   "outputs": [
    {
     "data": {
      "text/html": [
       "<table>\n",
       "<tbody>\n",
       "\t<tr><td>31388</td><td>46938</td><td>56473</td><td>72862</td><td>40221</td><td>45823</td><td>53798</td><td>47038</td><td>40267</td><td>64405</td><td>⋯    </td><td>26023</td><td>31261</td><td>32865</td><td>40301</td><td>39874</td><td>41436</td><td>36997</td><td>30307</td><td>28421</td><td>31177</td></tr>\n",
       "</tbody>\n",
       "</table>\n"
      ],
      "text/latex": [
       "\\begin{tabular}{lllllllllllllllllllllllllllllllllllllllllllllllllllllllllllllllllllllllllllllllllllllllllllllllllllllllllllllllllllllllllllllllllllllllllllllllllllllllllllllllllllllllllllllllllllllllllllllllllllllllllllllllllllllllllllllllllllllllllllllllllllllllllllllllllllllllllllllllllllllllllllllllllllllllllllllllllllllllllllllllllllllllllllllllllllllllllllllllllllllllllllllllllllllllllllllllllllllllllllllllllllllllllllllllllllllllllllllllllllllllllllllllllllllllllllllllllllllllllllllllllllllllllllllllllllllllllllllllllllllllllllllllllllllllllllllllllllllllllllllllllllllllllllllllllllllllllllllllllllllllllllllllllllllllllllllllllllllllllllllllllllllllllllllllllllllllllllllllllllllllllllllllllllllllllllllllllllllllllllllllllllllllllllllllllllllllllllllllllllllllllllllllllllllllllllllllllllllllllllllllllllllllllllllllllllllllllllllllllllllllllllllllllllllllllllllllllllllllllllllllllllllllllllllllllllllllllllllllllllllllllllllllllllllllllllllllllllllllllllllllllllllllllllllllllllllllllllllllllllllllllllllllllllllllllllllllllllllllllllllllllllllllllllllllllllllllllllllllllllllllllllllllllllllllllllllllllllllllllllllllllllllllllllllllllllllllllllllllllllllllllllllllllllllllllllllllllllllllllllllllllllllllllllllllllllllllllllllllllllllllllllllllllllllllllllllllllllllllllllllllllllllllllllllllllllllllllllllllllllllllllllllllllllllllllllllllllllllllllllllllllllllllllllllllllllllllllllllllllllllllllllllllllllllllllllllllllllllllllllllllllllllllllllllllllllllllllllllllllllllllllllllllllllllllllllllllllllllllllllllllllllllllllllllllllllllllllllllllllllllllllllllllllllllllllllllllllllllllllllllllllllllllllllllllllllllllllllllllllllllllllllllllllllllllllllllllllllllllllllllllllllllllllllllllllllllllllllllllllllllllllllllllllllllllllllllllllllllllllllllllllllllllllllllllllllllllllllllllllllllllllllllllllllllllllllllllllllllllllllllllllllllllllllllllllllllllllllllllllllllllllllllllllllllllllllllllllllllllllllllllllllllllllllllllllllllllllllllllllllllllllllllllllllllllllllllllllllllllllllllllllllllllllllllllllllllllllllllllllllllllllllllllllllllllllllllllllllllllllllllllllllllllllllllllllllllllllllllllllllllllllllllllllllllllllllllllllllllllllllllllllllllllllllllllllllllllllllllllllllllllllllllllllllllllllllllllllllllllllllllllllllllllllllllllllllllllllllllllllllllllllllllllllllllllllllllllllllllllllllllllllllllllllllllllllllllllllllllllllllllllllllllllllllllllllllllllllllllllllllllllllllllllllllllllllllllllllllllllllllllllllllllllllllllllllllllllllllllllllllllllllllllllllllllllllllllllllllllllllllllllllllllllllllllllllllllllllllllllllllllllllllllllllllllllllllllllllllllllllllllllllllll}\n",
       "\t 31388 & 46938 & 56473 & 72862 & 40221 & 45823 & 53798 & 47038 & 40267 & 64405 & ⋯     & 26023 & 31261 & 32865 & 40301 & 39874 & 41436 & 36997 & 30307 & 28421 & 31177\\\\\n",
       "\\end{tabular}\n"
      ],
      "text/markdown": [
       "\n",
       "| 31388 | 46938 | 56473 | 72862 | 40221 | 45823 | 53798 | 47038 | 40267 | 64405 | ⋯     | 26023 | 31261 | 32865 | 40301 | 39874 | 41436 | 36997 | 30307 | 28421 | 31177 |\n",
       "\n"
      ],
      "text/plain": [
       "     [,1]  [,2]  [,3]  [,4]  [,5]  [,6]  [,7]  [,8]  [,9]  [,10] [,11] [,12]\n",
       "[1,] 31388 46938 56473 72862 40221 45823 53798 47038 40267 64405 ⋯     26023\n",
       "     [,13] [,14] [,15] [,16] [,17] [,18] [,19] [,20] [,21]\n",
       "[1,] 31261 32865 40301 39874 41436 36997 30307 28421 31177"
      ]
     },
     "metadata": {},
     "output_type": "display_data"
    },
    {
     "data": {
      "text/html": [
       "2605"
      ],
      "text/latex": [
       "2605"
      ],
      "text/markdown": [
       "2605"
      ],
      "text/plain": [
       "[1] 2605"
      ]
     },
     "metadata": {},
     "output_type": "display_data"
    }
   ],
   "source": [
    "# 总共商品种类 \n",
    "t(unique(bid$goods_id))\n",
    "length(unique(bid$goods_id))"
   ]
  },
  {
   "cell_type": "code",
   "execution_count": 72,
   "metadata": {},
   "outputs": [
    {
     "data": {
      "text/html": [
       "<table>\n",
       "<tbody>\n",
       "\t<tr><td>396</td><td>455</td><td>423</td><td>441</td><td>431</td><td>440</td><td>408</td><td>414</td><td>443</td><td>427</td><td>⋯  </td><td>487</td><td>447</td><td>473</td><td>515</td><td>411</td><td>387</td><td>416</td><td>430</td><td>437</td><td>424</td></tr>\n",
       "</tbody>\n",
       "</table>\n"
      ],
      "text/latex": [
       "\\begin{tabular}{lllllllllllllllllllllllllllllllllllllllllllllllllllllll}\n",
       "\t 396 & 455 & 423 & 441 & 431 & 440 & 408 & 414 & 443 & 427 & ⋯   & 487 & 447 & 473 & 515 & 411 & 387 & 416 & 430 & 437 & 424\\\\\n",
       "\\end{tabular}\n"
      ],
      "text/markdown": [
       "\n",
       "| 396 | 455 | 423 | 441 | 431 | 440 | 408 | 414 | 443 | 427 | ⋯   | 487 | 447 | 473 | 515 | 411 | 387 | 416 | 430 | 437 | 424 |\n",
       "\n"
      ],
      "text/plain": [
       "     [,1] [,2] [,3] [,4] [,5] [,6] [,7] [,8] [,9] [,10] [,11] [,12] [,13] [,14]\n",
       "[1,] 396  455  423  441  431  440  408  414  443  427   ⋯     487   447   473  \n",
       "     [,15] [,16] [,17] [,18] [,19] [,20] [,21]\n",
       "[1,] 515   411   387   416   430   437   424  "
      ]
     },
     "metadata": {},
     "output_type": "display_data"
    },
    {
     "data": {
      "text/html": [
       "55"
      ],
      "text/latex": [
       "55"
      ],
      "text/markdown": [
       "55"
      ],
      "text/plain": [
       "[1] 55"
      ]
     },
     "metadata": {},
     "output_type": "display_data"
    }
   ],
   "source": [
    "# 总共商家数量\n",
    "t(unique(bid$merchant_id))\n",
    "length(unique(bid$merchant_id))"
   ]
  },
  {
   "cell_type": "code",
   "execution_count": 75,
   "metadata": {},
   "outputs": [
    {
     "data": {
      "text/html": [
       "<table>\n",
       "<thead><tr><th scope=col>merchant_id</th><th scope=col>goods_id</th><th scope=col>goods_num</th></tr></thead>\n",
       "<tbody>\n",
       "\t<tr><td>427  </td><td>40255</td><td>23   </td></tr>\n",
       "\t<tr><td>427  </td><td>45884</td><td>20   </td></tr>\n",
       "\t<tr><td>432  </td><td>40606</td><td>20   </td></tr>\n",
       "\t<tr><td>396  </td><td>31194</td><td>19   </td></tr>\n",
       "</tbody>\n",
       "</table>\n"
      ],
      "text/latex": [
       "\\begin{tabular}{r|lll}\n",
       " merchant\\_id & goods\\_id & goods\\_num\\\\\n",
       "\\hline\n",
       "\t 427   & 40255 & 23   \\\\\n",
       "\t 427   & 45884 & 20   \\\\\n",
       "\t 432   & 40606 & 20   \\\\\n",
       "\t 396   & 31194 & 19   \\\\\n",
       "\\end{tabular}\n"
      ],
      "text/markdown": [
       "\n",
       "| merchant_id | goods_id | goods_num |\n",
       "|---|---|---|\n",
       "| 427   | 40255 | 23    |\n",
       "| 427   | 45884 | 20    |\n",
       "| 432   | 40606 | 20    |\n",
       "| 396   | 31194 | 19    |\n",
       "\n"
      ],
      "text/plain": [
       "  merchant_id goods_id goods_num\n",
       "1 427         40255    23       \n",
       "2 427         45884    20       \n",
       "3 432         40606    20       \n",
       "4 396         31194    19       "
      ]
     },
     "metadata": {},
     "output_type": "display_data"
    }
   ],
   "source": [
    "# t = group_by(bid, merchant_id, goods_id) %>% summarise(n = n()) %>% arrange(desc(n))\n",
    "\n",
    "# 求每个商品 的差评数,并将差评数用字段goods_num  表示 ，然后按照goods_num 降序排列\n",
    "sql = \"select merchant_id, goods_id, count(*) as goods_num from bid group by merchant_id, goods_id order by goods_num desc\"\n",
    "t = sqldf(sql)\n",
    "t[1:4,]"
   ]
  },
  {
   "cell_type": "code",
   "execution_count": 76,
   "metadata": {},
   "outputs": [
    {
     "data": {
      "text/html": [
       "<table>\n",
       "<thead><tr><th scope=col>merchant_id</th><th scope=col>merchant_num</th></tr></thead>\n",
       "<tbody>\n",
       "\t<tr><td>423</td><td>381</td></tr>\n",
       "\t<tr><td>431</td><td>260</td></tr>\n",
       "\t<tr><td>440</td><td>240</td></tr>\n",
       "</tbody>\n",
       "</table>\n"
      ],
      "text/latex": [
       "\\begin{tabular}{r|ll}\n",
       " merchant\\_id & merchant\\_num\\\\\n",
       "\\hline\n",
       "\t 423 & 381\\\\\n",
       "\t 431 & 260\\\\\n",
       "\t 440 & 240\\\\\n",
       "\\end{tabular}\n"
      ],
      "text/markdown": [
       "\n",
       "| merchant_id | merchant_num |\n",
       "|---|---|\n",
       "| 423 | 381 |\n",
       "| 431 | 260 |\n",
       "| 440 | 240 |\n",
       "\n"
      ],
      "text/plain": [
       "  merchant_id merchant_num\n",
       "1 423         381         \n",
       "2 431         260         \n",
       "3 440         240         "
      ]
     },
     "metadata": {},
     "output_type": "display_data"
    }
   ],
   "source": [
    "# te = t %>% group_by(merchant_id) %>% summarise(merchant_num = n())  %>% arrange(desc(merchant_num))\n",
    "\n",
    "# 求每个商家 有多少商品是 差评的，这个数量 用merchant_num 表示，并按照这个数量进行降序排序，TODO 然后好筛选 大于3种商品数有哪些商家，并列出这些无良商家具体的数量\n",
    "\n",
    "sql = \"select merchant_id,count(*) as merchant_num from t group by merchant_id order by merchant_num desc\"\n",
    "te = sqldf(sql)\n",
    "te[1:3,]\n"
   ]
  },
  {
   "cell_type": "markdown",
   "metadata": {},
   "source": [
    "## 将第一个结果和第二个结果连接起来\n"
   ]
  },
  {
   "cell_type": "code",
   "execution_count": 79,
   "metadata": {},
   "outputs": [
    {
     "data": {
      "text/html": [
       "<table>\n",
       "<thead><tr><th scope=col>merchant_id</th><th scope=col>goods_id</th><th scope=col>goods_num</th><th scope=col>merchant_num</th></tr></thead>\n",
       "<tbody>\n",
       "\t<tr><td>427  </td><td>40255</td><td>23   </td><td>130  </td></tr>\n",
       "\t<tr><td>427  </td><td>45884</td><td>20   </td><td>130  </td></tr>\n",
       "\t<tr><td>432  </td><td>40606</td><td>20   </td><td>152  </td></tr>\n",
       "\t<tr><td>396  </td><td>31194</td><td>19   </td><td>180  </td></tr>\n",
       "</tbody>\n",
       "</table>\n"
      ],
      "text/latex": [
       "\\begin{tabular}{r|llll}\n",
       " merchant\\_id & goods\\_id & goods\\_num & merchant\\_num\\\\\n",
       "\\hline\n",
       "\t 427   & 40255 & 23    & 130  \\\\\n",
       "\t 427   & 45884 & 20    & 130  \\\\\n",
       "\t 432   & 40606 & 20    & 152  \\\\\n",
       "\t 396   & 31194 & 19    & 180  \\\\\n",
       "\\end{tabular}\n"
      ],
      "text/markdown": [
       "\n",
       "| merchant_id | goods_id | goods_num | merchant_num |\n",
       "|---|---|---|---|\n",
       "| 427   | 40255 | 23    | 130   |\n",
       "| 427   | 45884 | 20    | 130   |\n",
       "| 432   | 40606 | 20    | 152   |\n",
       "| 396   | 31194 | 19    | 180   |\n",
       "\n"
      ],
      "text/plain": [
       "  merchant_id goods_id goods_num merchant_num\n",
       "1 427         40255    23        130         \n",
       "2 427         45884    20        130         \n",
       "3 432         40606    20        152         \n",
       "4 396         31194    19        180         "
      ]
     },
     "metadata": {},
     "output_type": "display_data"
    }
   ],
   "source": [
    "# 使用数据透视表 vlookup 实现\n",
    "\n",
    "# t = left_join(t,te,by = \"merchant_id\")\n",
    "sql = \"select * from t left outer join te on t.merchant_id = te.merchant_id\"\n",
    "sql = \"select t.merchant_id,t.goods_id, t.goods_num, te.merchant_num from t left outer join te on t.merchant_id = te.merchant_id\"\n",
    "t2 = sqldf(sql)\n",
    "t2[1:4,]"
   ]
  },
  {
   "cell_type": "code",
   "execution_count": 80,
   "metadata": {},
   "outputs": [],
   "source": [
    "gold4 = read.csv(\"~/Desktop/change.txt\", sep = \"\\t\")"
   ]
  },
  {
   "cell_type": "code",
   "execution_count": 82,
   "metadata": {},
   "outputs": [],
   "source": [
    "write.csv(gold4,\"~/Desktop/change.csv\", row.names = F)"
   ]
  },
  {
   "cell_type": "markdown",
   "metadata": {},
   "source": [
    "### R 语言下载图片"
   ]
  },
  {
   "cell_type": "code",
   "execution_count": 1,
   "metadata": {},
   "outputs": [
    {
     "name": "stderr",
     "output_type": "stream",
     "text": [
      "Loading required package: xml2\n"
     ]
    }
   ],
   "source": [
    "# install.packages(\"downloader\")\n",
    "library(rvest)\n",
    "library(downloader)\n",
    "# library(dplyr)"
   ]
  },
  {
   "cell_type": "code",
   "execution_count": 2,
   "metadata": {},
   "outputs": [],
   "source": [
    "url <- 'http://www.uisdc.com/22-stunning-free-photos-websites'\n",
    "picture<- read_html(url)%>% html_nodes(\"div.entry-content\")%>%html_nodes(\"img\")%>%html_attr(\"src\")"
   ]
  },
  {
   "cell_type": "code",
   "execution_count": 3,
   "metadata": {},
   "outputs": [
    {
     "data": {
      "text/html": [
       "'https://image.uisdc.com/wp-content/uploads/2015/04/22-stunning-free-photos-websites-1.jpg'"
      ],
      "text/latex": [
       "'https://image.uisdc.com/wp-content/uploads/2015/04/22-stunning-free-photos-websites-1.jpg'"
      ],
      "text/markdown": [
       "'https://image.uisdc.com/wp-content/uploads/2015/04/22-stunning-free-photos-websites-1.jpg'"
      ],
      "text/plain": [
       "[1] \"https://image.uisdc.com/wp-content/uploads/2015/04/22-stunning-free-photos-websites-1.jpg\""
      ]
     },
     "metadata": {},
     "output_type": "display_data"
    }
   ],
   "source": [
    "picture[1]"
   ]
  },
  {
   "cell_type": "code",
   "execution_count": 4,
   "metadata": {},
   "outputs": [
    {
     "data": {
      "text/plain": [
       "{xml_document}\n",
       "<html class=\"\" lang=\"en\">\n",
       "[1] <head>\\n<meta http-equiv=\"Content-Type\" content=\"text/html; charset=UTF-8 ...\n",
       "[2] <body class=\"controller-lots action-show \">\\n<nav class=\"navbar navbar-de ..."
      ]
     },
     "metadata": {},
     "output_type": "display_data"
    }
   ],
   "source": [
    "url = \"https://tophatter.com/lots/104461372\"\n",
    "# doc = read_html(url)\n",
    "doc <- xml2::read_html(url)\n",
    "doc\n",
    "\n",
    "\n"
   ]
  },
  {
   "cell_type": "code",
   "execution_count": 5,
   "metadata": {},
   "outputs": [
    {
     "data": {
      "text/plain": [
       "{xml_nodeset (19)}\n",
       " [1] <meta http-equiv=\"Content-Type\" content=\"text/html; charset=UTF-8\">\\n\n",
       " [2] <meta name=\"csrf-param\" content=\"authenticity_token\">\\n\n",
       " [3] <meta name=\"csrf-token\" content=\"Md4zvsCfW2zgFDuP0fq7/SYRRrHoZ5jmP3AM2oT ...\n",
       " [4] <meta charset=\"utf-8\">\\n\n",
       " [5] <meta content=\"IE=edge\" http-equiv=\"X-UA-Compatible\">\\n\n",
       " [6] <meta content=\"width=device-width, initial-scale=1\" name=\"viewport\">\\n\n",
       " [7] <meta content=\"South African Ore Manufacturing 100% Genuine 14K White Go ...\n",
       " [8] <meta content=\"Tophatter\" name=\"application-name\">\\n\n",
       " [9] <meta content=\"app-id=com.tophatter\" name=\"google-play-app\">\\n\n",
       "[10] <meta content=\"https://go.onelink.me/2550765822?pid=Tophatter_Internal&a ...\n",
       "[11] <meta content=\"295802707128640\" property=\"fb:app_id\">\\n\n",
       "[12] <meta content=\"300664329976860\" property=\"fb:page_id\">\\n\n",
       "[13] <meta content=\"Tophatter\" property=\"og:site_name\">\\n\n",
       "[14] <meta content=\"https://tophatter.com/lots/104461372\" property=\"og:url\">\\n\n",
       "[15] <meta content=\"South African Ore Manufacturing 100% Genuine 14K White Go ...\n",
       "[16] <meta content=\"South African Ore Manufacturing 100% Genuine 14K White Go ...\n",
       "[17] <meta content=\"https://images.tophatter.com/42c09f609e7a6a47c70e0e1ccf3a ...\n",
       "[18] <meta name=\"twitter:label1\" value=\"Price\">\\n\n",
       "[19] <meta name=\"twitter:data1\" value=\"14\">\\n"
      ]
     },
     "metadata": {},
     "output_type": "display_data"
    }
   ],
   "source": [
    "doc %>% html_nodes(\"meta\") "
   ]
  },
  {
   "cell_type": "code",
   "execution_count": 6,
   "metadata": {},
   "outputs": [
    {
     "data": {
      "text/plain": [
       "{xml_nodeset (1)}\n",
       "[1] <meta content=\"https://images.tophatter.com/42c09f609e7a6a47c70e0e1ccf3a0 ..."
      ]
     },
     "metadata": {},
     "output_type": "display_data"
    },
    {
     "data": {
      "text/html": [
       "'https://images.tophatter.com/42c09f609e7a6a47c70e0e1ccf3a0bb6/large.jpg'"
      ],
      "text/latex": [
       "'https://images.tophatter.com/42c09f609e7a6a47c70e0e1ccf3a0bb6/large.jpg'"
      ],
      "text/markdown": [
       "'https://images.tophatter.com/42c09f609e7a6a47c70e0e1ccf3a0bb6/large.jpg'"
      ],
      "text/plain": [
       "[1] \"https://images.tophatter.com/42c09f609e7a6a47c70e0e1ccf3a0bb6/large.jpg\""
      ]
     },
     "metadata": {},
     "output_type": "display_data"
    }
   ],
   "source": [
    "#find all str nodes\n",
    " nodes<-xml_find_all(doc, '//*[@content]')\n",
    "\n",
    "#filter out the nodes where the attribute name=id\n",
    " index = xml_attr(nodes, \"property\")==\"og:image\"\n",
    " index = which(index)\n",
    " nodes<-nodes[index]\n",
    " nodes\n",
    "#get values (as character strings)\n",
    " html_attr(nodes, \"content\")"
   ]
  },
  {
   "cell_type": "code",
   "execution_count": 189,
   "metadata": {},
   "outputs": [
    {
     "data": {
      "text/html": [
       "'https://images.tophatter.com/42c09f609e7a6a47c70e0e1ccf3a0bb6/large.jpg'"
      ],
      "text/latex": [
       "'https://images.tophatter.com/42c09f609e7a6a47c70e0e1ccf3a0bb6/large.jpg'"
      ],
      "text/markdown": [
       "'https://images.tophatter.com/42c09f609e7a6a47c70e0e1ccf3a0bb6/large.jpg'"
      ],
      "text/plain": [
       "[1] \"https://images.tophatter.com/42c09f609e7a6a47c70e0e1ccf3a0bb6/large.jpg\""
      ]
     },
     "metadata": {},
     "output_type": "display_data"
    }
   ],
   "source": [
    "meta =  doc %>% html_nodes(\"meta\") %>% html_attr(\"property\")\n",
    "index = which(meta == \"og:image\")\n",
    "imgcontent =  doc %>% html_nodes(\"meta\") %>% html_attr(\"content\")\n",
    "imgcontent[index]\n"
   ]
  },
  {
   "cell_type": "code",
   "execution_count": 216,
   "metadata": {},
   "outputs": [
    {
     "data": {
      "text/html": [
       "'col-md-7 slot-images'"
      ],
      "text/latex": [
       "'col-md-7 slot-images'"
      ],
      "text/markdown": [
       "'col-md-7 slot-images'"
      ],
      "text/plain": [
       "[1] \"col-md-7 slot-images\""
      ]
     },
     "metadata": {},
     "output_type": "display_data"
    },
    {
     "data": {
      "text/html": [
       "NA"
      ],
      "text/latex": [
       "NA"
      ],
      "text/markdown": [
       "NA"
      ],
      "text/plain": [
       "[1] NA"
      ]
     },
     "metadata": {},
     "output_type": "display_data"
    }
   ],
   "source": [
    "doc %>% html_nodes(\"div.col-md-7\") %>% html_attr(\"class\")\n",
    "doc %>% html_nodes(\"div.col-md-7\") %>% html_attr(\"src\")"
   ]
  },
  {
   "cell_type": "code",
   "execution_count": 194,
   "metadata": {},
   "outputs": [
    {
     "data": {
      "text/html": [
       "'https://images.tophatter.com/42c09f609e7a6a47c70e0e1ccf3a0bb6/large.jpg'"
      ],
      "text/latex": [
       "'https://images.tophatter.com/42c09f609e7a6a47c70e0e1ccf3a0bb6/large.jpg'"
      ],
      "text/markdown": [
       "'https://images.tophatter.com/42c09f609e7a6a47c70e0e1ccf3a0bb6/large.jpg'"
      ],
      "text/plain": [
       "[1] \"https://images.tophatter.com/42c09f609e7a6a47c70e0e1ccf3a0bb6/large.jpg\""
      ]
     },
     "metadata": {},
     "output_type": "display_data"
    }
   ],
   "source": [
    "a = doc %>% html_nodes(\"meta\") %>% html_attrs\n",
    "a = doc %>% html_nodes(\"meta\") %>% html_attr(\"content\") %>% na.omit\n",
    "index = a %>% stringr::str_detect(\".jpg\") %>% which\n",
    "a[index]"
   ]
  },
  {
   "cell_type": "code",
   "execution_count": 162,
   "metadata": {},
   "outputs": [],
   "source": [
    "download(a[17] %>% html_attr(\"content\"),\"~/Desktop/picture1.jpg\", mode = \"wb\")"
   ]
  },
  {
   "cell_type": "markdown",
   "metadata": {},
   "source": [
    "#  匹配"
   ]
  },
  {
   "cell_type": "code",
   "execution_count": 41,
   "metadata": {},
   "outputs": [
    {
     "data": {
      "text/html": [
       "<table>\n",
       "<thead><tr><th scope=col>item_id</th><th scope=col>created_at</th><th scope=col>reserve_price</th><th scope=col>shipping_fee</th><th scope=col>总价</th><th scope=col>expo_count</th></tr></thead>\n",
       "<tbody>\n",
       "\t<tr><td>31237     </td><td>2018-11-20</td><td>7         </td><td>0         </td><td>7         </td><td> 2        </td></tr>\n",
       "\t<tr><td>31237     </td><td>2018-11-24</td><td>7         </td><td>0         </td><td>7         </td><td>32        </td></tr>\n",
       "\t<tr><td>31237     </td><td>2018-11-25</td><td>7         </td><td>0         </td><td>7         </td><td>38        </td></tr>\n",
       "</tbody>\n",
       "</table>\n"
      ],
      "text/latex": [
       "\\begin{tabular}{r|llllll}\n",
       " item\\_id & created\\_at & reserve\\_price & shipping\\_fee & 总价 & expo\\_count\\\\\n",
       "\\hline\n",
       "\t 31237      & 2018-11-20 & 7          & 0          & 7          &  2        \\\\\n",
       "\t 31237      & 2018-11-24 & 7          & 0          & 7          & 32        \\\\\n",
       "\t 31237      & 2018-11-25 & 7          & 0          & 7          & 38        \\\\\n",
       "\\end{tabular}\n"
      ],
      "text/markdown": [
       "\n",
       "| item_id | created_at | reserve_price | shipping_fee | 总价 | expo_count |\n",
       "|---|---|---|---|---|---|\n",
       "| 31237      | 2018-11-20 | 7          | 0          | 7          |  2         |\n",
       "| 31237      | 2018-11-24 | 7          | 0          | 7          | 32         |\n",
       "| 31237      | 2018-11-25 | 7          | 0          | 7          | 38         |\n",
       "\n"
      ],
      "text/plain": [
       "  item_id created_at reserve_price shipping_fee 总价 expo_count\n",
       "1 31237   2018-11-20 7             0            7     2        \n",
       "2 31237   2018-11-24 7             0            7    32        \n",
       "3 31237   2018-11-25 7             0            7    38        "
      ]
     },
     "metadata": {},
     "output_type": "display_data"
    },
    {
     "data": {
      "text/html": [
       "<table>\n",
       "<thead><tr><th scope=col>item_id</th><th scope=col>paid_at</th><th scope=col>price</th><th scope=col>reserve_price</th><th scope=col>shipping_fee</th><th scope=col>order_count</th></tr></thead>\n",
       "<tbody>\n",
       "\t<tr><td>31237     </td><td>2018-11-24</td><td>8.909091  </td><td>7         </td><td>0         </td><td>11        </td></tr>\n",
       "\t<tr><td>31237     </td><td>2018-11-25</td><td>8.583333  </td><td>7         </td><td>0         </td><td>12        </td></tr>\n",
       "\t<tr><td>31237     </td><td>2018-11-26</td><td>7.363636  </td><td>7         </td><td>0         </td><td>11        </td></tr>\n",
       "</tbody>\n",
       "</table>\n"
      ],
      "text/latex": [
       "\\begin{tabular}{r|llllll}\n",
       " item\\_id & paid\\_at & price & reserve\\_price & shipping\\_fee & order\\_count\\\\\n",
       "\\hline\n",
       "\t 31237      & 2018-11-24 & 8.909091   & 7          & 0          & 11        \\\\\n",
       "\t 31237      & 2018-11-25 & 8.583333   & 7          & 0          & 12        \\\\\n",
       "\t 31237      & 2018-11-26 & 7.363636   & 7          & 0          & 11        \\\\\n",
       "\\end{tabular}\n"
      ],
      "text/markdown": [
       "\n",
       "| item_id | paid_at | price | reserve_price | shipping_fee | order_count |\n",
       "|---|---|---|---|---|---|\n",
       "| 31237      | 2018-11-24 | 8.909091   | 7          | 0          | 11         |\n",
       "| 31237      | 2018-11-25 | 8.583333   | 7          | 0          | 12         |\n",
       "| 31237      | 2018-11-26 | 7.363636   | 7          | 0          | 11         |\n",
       "\n"
      ],
      "text/plain": [
       "  item_id paid_at    price    reserve_price shipping_fee order_count\n",
       "1 31237   2018-11-24 8.909091 7             0            11         \n",
       "2 31237   2018-11-25 8.583333 7             0            12         \n",
       "3 31237   2018-11-26 7.363636 7             0            11         "
      ]
     },
     "metadata": {},
     "output_type": "display_data"
    },
    {
     "data": {
      "text/html": [
       "'Date'"
      ],
      "text/latex": [
       "'Date'"
      ],
      "text/markdown": [
       "'Date'"
      ],
      "text/plain": [
       "[1] \"Date\""
      ]
     },
     "metadata": {},
     "output_type": "display_data"
    },
    {
     "data": {
      "text/html": [
       "'Date'"
      ],
      "text/latex": [
       "'Date'"
      ],
      "text/markdown": [
       "'Date'"
      ],
      "text/plain": [
       "[1] \"Date\""
      ]
     },
     "metadata": {},
     "output_type": "display_data"
    }
   ],
   "source": [
    "a = openxlsx::read.xlsx(\"~/Desktop/常青库第一批成交价格和保留价情况.xlsx\", sheet = 1, detectDates = T)\n",
    "b = openxlsx::read.xlsx(\"~/Desktop/常青库第一批成交价格和保留价情况.xlsx\", sheet = 2, detectDates = T)\n",
    "a[1:3,]\n",
    "b[1:3,]\n",
    "class(a$created_at)\n",
    "class(b$paid_at)"
   ]
  },
  {
   "cell_type": "code",
   "execution_count": 1,
   "metadata": {},
   "outputs": [],
   "source": [
    "a = read.csv(pipe(\"pbpaste\"), sep = \"\\t\", header = T, stringsAsFactors = F)"
   ]
  },
  {
   "cell_type": "code",
   "execution_count": 2,
   "metadata": {},
   "outputs": [],
   "source": [
    "b = read.csv(pipe(\"pbpaste\"), sep = \"\\t\", header = T, stringsAsFactors = F)"
   ]
  },
  {
   "cell_type": "code",
   "execution_count": 10,
   "metadata": {},
   "outputs": [
    {
     "data": {
      "text/html": [
       "'character'"
      ],
      "text/latex": [
       "'character'"
      ],
      "text/markdown": [
       "'character'"
      ],
      "text/plain": [
       "[1] \"character\""
      ]
     },
     "metadata": {},
     "output_type": "display_data"
    },
    {
     "data": {
      "text/html": [
       "'character'"
      ],
      "text/latex": [
       "'character'"
      ],
      "text/markdown": [
       "'character'"
      ],
      "text/plain": [
       "[1] \"character\""
      ]
     },
     "metadata": {},
     "output_type": "display_data"
    },
    {
     "data": {
      "text/html": [
       "<table>\n",
       "<thead><tr><th scope=col>item_id</th><th scope=col>paid_at</th><th scope=col>price</th><th scope=col>reserve_price</th><th scope=col>shipping_fee</th><th scope=col>order_count</th></tr></thead>\n",
       "<tbody>\n",
       "\t<tr><td>integer  </td><td>character</td><td>numeric  </td><td>numeric  </td><td>numeric  </td><td>integer  </td></tr>\n",
       "</tbody>\n",
       "</table>\n"
      ],
      "text/latex": [
       "\\begin{tabular}{llllll}\n",
       " item\\_id & paid\\_at & price & reserve\\_price & shipping\\_fee & order\\_count\\\\\n",
       "\\hline\n",
       "\t integer   & character & numeric   & numeric   & numeric   & integer  \\\\\n",
       "\\end{tabular}\n"
      ],
      "text/markdown": [
       "\n",
       "| item_id | paid_at | price | reserve_price | shipping_fee | order_count |\n",
       "|---|---|---|---|---|---|\n",
       "| integer   | character | numeric   | numeric   | numeric   | integer   |\n",
       "\n"
      ],
      "text/plain": [
       "     item_id paid_at   price   reserve_price shipping_fee order_count\n",
       "[1,] integer character numeric numeric       numeric      integer    "
      ]
     },
     "metadata": {},
     "output_type": "display_data"
    }
   ],
   "source": [
    "class(b$paid_at)\n",
    "class(a$created_at)\n",
    "t(lapply(a,class))"
   ]
  },
  {
   "cell_type": "code",
   "execution_count": 14,
   "metadata": {},
   "outputs": [],
   "source": [
    "names(b)[2] = names(a)[2]\n",
    "new = left_join(a, b[,c(1,2,6)],by = c(\"item_id\",\"created_at\"))"
   ]
  },
  {
   "cell_type": "code",
   "execution_count": 31,
   "metadata": {},
   "outputs": [],
   "source": [
    "new2 = sqldf::sqldf(\"select a.item_id,a.created_at,a.reserve_price, a.shipping_fee ,a.总价 ,a.expo_count , b.order_count \n",
    "from a left outer join  b ON a.item_id=b.item_id and a.created_at = b.created_at\" )"
   ]
  },
  {
   "cell_type": "code",
   "execution_count": 32,
   "metadata": {},
   "outputs": [
    {
     "data": {
      "text/html": [
       "<table>\n",
       "<thead><tr><th scope=col>item_id</th><th scope=col>created_at</th><th scope=col>reserve_price</th><th scope=col>shipping_fee</th><th scope=col>总价</th><th scope=col>expo_count</th><th scope=col>order_count</th></tr></thead>\n",
       "<tbody>\n",
       "\t<tr><td>31237     </td><td>2018/11/20</td><td>7         </td><td>0         </td><td>7         </td><td> 2        </td><td>NA        </td></tr>\n",
       "\t<tr><td>31237     </td><td>2018/11/24</td><td>7         </td><td>0         </td><td>7         </td><td>32        </td><td>11        </td></tr>\n",
       "\t<tr><td>31237     </td><td>2018/11/25</td><td>7         </td><td>0         </td><td>7         </td><td>38        </td><td>12        </td></tr>\n",
       "\t<tr><td>31237     </td><td>2018/11/26</td><td>7         </td><td>0         </td><td>7         </td><td>39        </td><td>11        </td></tr>\n",
       "</tbody>\n",
       "</table>\n"
      ],
      "text/latex": [
       "\\begin{tabular}{r|lllllll}\n",
       " item\\_id & created\\_at & reserve\\_price & shipping\\_fee & 总价 & expo\\_count & order\\_count\\\\\n",
       "\\hline\n",
       "\t 31237      & 2018/11/20 & 7          & 0          & 7          &  2         & NA        \\\\\n",
       "\t 31237      & 2018/11/24 & 7          & 0          & 7          & 32         & 11        \\\\\n",
       "\t 31237      & 2018/11/25 & 7          & 0          & 7          & 38         & 12        \\\\\n",
       "\t 31237      & 2018/11/26 & 7          & 0          & 7          & 39         & 11        \\\\\n",
       "\\end{tabular}\n"
      ],
      "text/markdown": [
       "\n",
       "| item_id | created_at | reserve_price | shipping_fee | 总价 | expo_count | order_count |\n",
       "|---|---|---|---|---|---|---|\n",
       "| 31237      | 2018/11/20 | 7          | 0          | 7          |  2         | NA         |\n",
       "| 31237      | 2018/11/24 | 7          | 0          | 7          | 32         | 11         |\n",
       "| 31237      | 2018/11/25 | 7          | 0          | 7          | 38         | 12         |\n",
       "| 31237      | 2018/11/26 | 7          | 0          | 7          | 39         | 11         |\n",
       "\n"
      ],
      "text/plain": [
       "  item_id created_at reserve_price shipping_fee 总价 expo_count order_count\n",
       "1 31237   2018/11/20 7             0            7     2         NA         \n",
       "2 31237   2018/11/24 7             0            7    32         11         \n",
       "3 31237   2018/11/25 7             0            7    38         12         \n",
       "4 31237   2018/11/26 7             0            7    39         11         "
      ]
     },
     "metadata": {},
     "output_type": "display_data"
    }
   ],
   "source": [
    "new2[1:4,]"
   ]
  },
  {
   "cell_type": "code",
   "execution_count": 34,
   "metadata": {},
   "outputs": [],
   "source": [
    "write.csv(new2, \"~/Desktop/combination_count.csv\", row.names = F)"
   ]
  },
  {
   "cell_type": "markdown",
   "metadata": {},
   "source": [
    "# python 潘大师join 失败，字符串列title,需要strip（）首尾空格"
   ]
  },
  {
   "cell_type": "code",
   "execution_count": 9,
   "metadata": {},
   "outputs": [
    {
     "data": {
      "text/html": [
       "<ol class=list-inline>\n",
       "\t<li>'1dowload_day.py'</li>\n",
       "\t<li>'2extract_f.sh'</li>\n",
       "\t<li>'4ideainfo_group_title.py'</li>\n",
       "\t<li>'g67_results.csv'</li>\n",
       "\t<li>'grp_67_2.csv'</li>\n",
       "\t<li>'grp_67.csv'</li>\n",
       "\t<li>'temp.csv'</li>\n",
       "</ol>\n"
      ],
      "text/latex": [
       "\\begin{enumerate*}\n",
       "\\item '1dowload\\_day.py'\n",
       "\\item '2extract\\_f.sh'\n",
       "\\item '4ideainfo\\_group\\_title.py'\n",
       "\\item 'g67\\_results.csv'\n",
       "\\item 'grp\\_67\\_2.csv'\n",
       "\\item 'grp\\_67.csv'\n",
       "\\item 'temp.csv'\n",
       "\\end{enumerate*}\n"
      ],
      "text/markdown": [
       "1. '1dowload_day.py'\n",
       "2. '2extract_f.sh'\n",
       "3. '4ideainfo_group_title.py'\n",
       "4. 'g67_results.csv'\n",
       "5. 'grp_67_2.csv'\n",
       "6. 'grp_67.csv'\n",
       "7. 'temp.csv'\n",
       "\n",
       "\n"
      ],
      "text/plain": [
       "[1] \"1dowload_day.py\"          \"2extract_f.sh\"           \n",
       "[3] \"4ideainfo_group_title.py\" \"g67_results.csv\"         \n",
       "[5] \"grp_67_2.csv\"             \"grp_67.csv\"              \n",
       "[7] \"temp.csv\"                "
      ]
     },
     "metadata": {},
     "output_type": "display_data"
    }
   ],
   "source": [
    "dir(\"./baidu/fc/\")"
   ]
  },
  {
   "cell_type": "code",
   "execution_count": 12,
   "metadata": {},
   "outputs": [],
   "source": [
    "colnames = c(\"userid\",\"tradeid_3\",\"show\",\"click\",\"title\")\n",
    "g67 = read.csv(\"./baidu/fc/grp_67_2.csv\", sep  = \"\\t\", stringsAsFactors=F, col.names = colnames)\n",
    "colnames = c(\"title\",\"uned\",\"sellpoint\",\"socre\")\n",
    "sell = read.csv(\"./baidu/fc/g67_results.csv\", sep  = \"\\t\", stringsAsFactors=F, col.names = colnames)"
   ]
  },
  {
   "cell_type": "code",
   "execution_count": 14,
   "metadata": {},
   "outputs": [
    {
     "data": {
      "text/html": [
       "<table>\n",
       "<thead><tr><th scope=col>userid</th><th scope=col>tradeid_3</th><th scope=col>show</th><th scope=col>click</th><th scope=col>title</th></tr></thead>\n",
       "<tbody>\n",
       "\t<tr><td>3278                                                    </td><td>670601                                                  </td><td>2574                                                    </td><td>84                                                      </td><td> 专业欧美外教团队--平和英语360°极酷英语夏令营           </td></tr>\n",
       "\t<tr><td>3278                                                    </td><td>670601                                                  </td><td>7019                                                    </td><td>96                                                      </td><td> 在#{地域}，不用出国就能拥有的纯英语环境，口语自然流畅！</td></tr>\n",
       "\t<tr><td>3278                                                    </td><td>670601                                                  </td><td> 361                                                    </td><td> 8                                                      </td><td> 增长知识，更增长见识--平和英语360°极酷英语夏令营!      </td></tr>\n",
       "</tbody>\n",
       "</table>\n"
      ],
      "text/latex": [
       "\\begin{tabular}{r|lllll}\n",
       " userid & tradeid\\_3 & show & click & title\\\\\n",
       "\\hline\n",
       "\t 3278                                                     & 670601                                                   & 2574                                                     & 84                                                       &  专业欧美外教团队--平和英语360°极酷英语夏令营           \\\\\n",
       "\t 3278                                                           & 670601                                                         & 7019                                                           & 96                                                             &  在\\#\\{地域\\}，不用出国就能拥有的纯英语环境，口语自然流畅！\\\\\n",
       "\t 3278                                                     & 670601                                                   &  361                                                     &  8                                                       &  增长知识，更增长见识--平和英语360°极酷英语夏令营!      \\\\\n",
       "\\end{tabular}\n"
      ],
      "text/markdown": [
       "\n",
       "| userid | tradeid_3 | show | click | title |\n",
       "|---|---|---|---|---|\n",
       "| 3278                                                     | 670601                                                   | 2574                                                     | 84                                                       |  专业欧美外教团队--平和英语360°极酷英语夏令营            |\n",
       "| 3278                                                     | 670601                                                   | 7019                                                     | 96                                                       |  在#{地域}，不用出国就能拥有的纯英语环境，口语自然流畅！ |\n",
       "| 3278                                                     | 670601                                                   |  361                                                     |  8                                                       |  增长知识，更增长见识--平和英语360°极酷英语夏令营!       |\n",
       "\n"
      ],
      "text/plain": [
       "  userid tradeid_3 show click\n",
       "1 3278   670601    2574 84   \n",
       "2 3278   670601    7019 96   \n",
       "3 3278   670601     361  8   \n",
       "  title                                                   \n",
       "1  专业欧美外教团队--平和英语360°极酷英语夏令营           \n",
       "2  在#{地域}，不用出国就能拥有的纯英语环境，口语自然流畅！\n",
       "3  增长知识，更增长见识--平和英语360°极酷英语夏令营!      "
      ]
     },
     "metadata": {},
     "output_type": "display_data"
    },
    {
     "data": {
      "text/html": [
       "<table>\n",
       "<thead><tr><th scope=col>title</th><th scope=col>uned</th><th scope=col>sellpoint</th><th scope=col>socre</th></tr></thead>\n",
       "<tbody>\n",
       "\t<tr><td>专业欧美外教团队--平和英语360°极酷英语夏令营            </td><td>便宜                                                    </td><td>师资强                                                  </td><td>0.8605900                                               </td></tr>\n",
       "\t<tr><td>在#{地域}，不用出国就能拥有的纯英语环境，口语自然流畅！ </td><td>便宜                                                    </td><td>轻松学习                                                </td><td>0.8553047                                               </td></tr>\n",
       "\t<tr><td>增长知识，更增长见识--平和英语360°极酷英语夏令营!       </td><td>便宜                                                    </td><td>轻松学习                                                </td><td>0.4476695                                               </td></tr>\n",
       "</tbody>\n",
       "</table>\n"
      ],
      "text/latex": [
       "\\begin{tabular}{r|llll}\n",
       " title & uned & sellpoint & socre\\\\\n",
       "\\hline\n",
       "\t 专业欧美外教团队--平和英语360°极酷英语夏令营             & 便宜                                                     & 师资强                                                   & 0.8605900                                               \\\\\n",
       "\t 在\\#\\{地域\\}，不用出国就能拥有的纯英语环境，口语自然流畅！  & 便宜                                                           & 轻松学习                                                       & 0.8553047                                                     \\\\\n",
       "\t 增长知识，更增长见识--平和英语360°极酷英语夏令营!        & 便宜                                                     & 轻松学习                                                 & 0.4476695                                               \\\\\n",
       "\\end{tabular}\n"
      ],
      "text/markdown": [
       "\n",
       "| title | uned | sellpoint | socre |\n",
       "|---|---|---|---|\n",
       "| 专业欧美外教团队--平和英语360°极酷英语夏令营             | 便宜                                                     | 师资强                                                   | 0.8605900                                                |\n",
       "| 在#{地域}，不用出国就能拥有的纯英语环境，口语自然流畅！  | 便宜                                                     | 轻松学习                                                 | 0.8553047                                                |\n",
       "| 增长知识，更增长见识--平和英语360°极酷英语夏令营!        | 便宜                                                     | 轻松学习                                                 | 0.4476695                                                |\n",
       "\n"
      ],
      "text/plain": [
       "  title                                                    uned sellpoint\n",
       "1 专业欧美外教团队--平和英语360°极酷英语夏令营             便宜 师资强   \n",
       "2 在#{地域}，不用出国就能拥有的纯英语环境，口语自然流畅！  便宜 轻松学习 \n",
       "3 增长知识，更增长见识--平和英语360°极酷英语夏令营!        便宜 轻松学习 \n",
       "  socre    \n",
       "1 0.8605900\n",
       "2 0.8553047\n",
       "3 0.4476695"
      ]
     },
     "metadata": {},
     "output_type": "display_data"
    }
   ],
   "source": [
    "g67[1:3,]\n",
    "sell[1:3,]"
   ]
  },
  {
   "cell_type": "code",
   "execution_count": 34,
   "metadata": {},
   "outputs": [
    {
     "data": {
      "text/html": [
       "'增长知识，更增长见识--平和英语360°极酷英语夏令营! '"
      ],
      "text/latex": [
       "'增长知识，更增长见识--平和英语360°极酷英语夏令营! '"
      ],
      "text/markdown": [
       "'增长知识，更增长见识--平和英语360°极酷英语夏令营! '"
      ],
      "text/plain": [
       "[1] \"增长知识，更增长见识--平和英语360°极酷英语夏令营! \""
      ]
     },
     "metadata": {},
     "output_type": "display_data"
    }
   ],
   "source": [
    "sell[3,\"title\"]"
   ]
  },
  {
   "cell_type": "code",
   "execution_count": 38,
   "metadata": {},
   "outputs": [
    {
     "data": {
      "text/html": [
       "<table>\n",
       "<thead><tr><th></th><th scope=col>userid</th><th scope=col>tradeid_3</th><th scope=col>show</th><th scope=col>click</th><th scope=col>title</th></tr></thead>\n",
       "<tbody>\n",
       "\t<tr><th scope=row>3</th><td>3278                                              </td><td>670601                                            </td><td>361                                               </td><td> 8                                                </td><td> 增长知识，更增长见识--平和英语360°极酷英语夏令营!</td></tr>\n",
       "\t<tr><th scope=row>36756</th><td>3278                                              </td><td>670601                                            </td><td>557                                               </td><td>14                                                </td><td> 增长知识，更增长见识--平和英语360°极酷英语夏令营!</td></tr>\n",
       "\t<tr><th scope=row>71395</th><td>3278                                              </td><td>670601                                            </td><td>229                                               </td><td> 6                                                </td><td> 增长知识，更增长见识--平和英语360°极酷英语夏令营!</td></tr>\n",
       "\t<tr><th scope=row>97670</th><td>3278                                              </td><td>670601                                            </td><td>187                                               </td><td> 3                                                </td><td> 增长知识，更增长见识--平和英语360°极酷英语夏令营!</td></tr>\n",
       "\t<tr><th scope=row>137023</th><td>3278                                              </td><td>670601                                            </td><td>364                                               </td><td> 6                                                </td><td> 增长知识，更增长见识--平和英语360°极酷英语夏令营!</td></tr>\n",
       "</tbody>\n",
       "</table>\n"
      ],
      "text/latex": [
       "\\begin{tabular}{r|lllll}\n",
       "  & userid & tradeid\\_3 & show & click & title\\\\\n",
       "\\hline\n",
       "\t3 & 3278                                               & 670601                                             & 361                                                &  8                                                 &  增长知识，更增长见识--平和英语360°极酷英语夏令营!\\\\\n",
       "\t36756 & 3278                                               & 670601                                             & 557                                                & 14                                                 &  增长知识，更增长见识--平和英语360°极酷英语夏令营!\\\\\n",
       "\t71395 & 3278                                               & 670601                                             & 229                                                &  6                                                 &  增长知识，更增长见识--平和英语360°极酷英语夏令营!\\\\\n",
       "\t97670 & 3278                                               & 670601                                             & 187                                                &  3                                                 &  增长知识，更增长见识--平和英语360°极酷英语夏令营!\\\\\n",
       "\t137023 & 3278                                               & 670601                                             & 364                                                &  6                                                 &  增长知识，更增长见识--平和英语360°极酷英语夏令营!\\\\\n",
       "\\end{tabular}\n"
      ],
      "text/markdown": [
       "\n",
       "| <!--/--> | userid | tradeid_3 | show | click | title |\n",
       "|---|---|---|---|---|---|\n",
       "| 3 | 3278                                               | 670601                                             | 361                                                |  8                                                 |  增长知识，更增长见识--平和英语360°极酷英语夏令营! |\n",
       "| 36756 | 3278                                               | 670601                                             | 557                                                | 14                                                 |  增长知识，更增长见识--平和英语360°极酷英语夏令营! |\n",
       "| 71395 | 3278                                               | 670601                                             | 229                                                |  6                                                 |  增长知识，更增长见识--平和英语360°极酷英语夏令营! |\n",
       "| 97670 | 3278                                               | 670601                                             | 187                                                |  3                                                 |  增长知识，更增长见识--平和英语360°极酷英语夏令营! |\n",
       "| 137023 | 3278                                               | 670601                                             | 364                                                |  6                                                 |  增长知识，更增长见识--平和英语360°极酷英语夏令营! |\n",
       "\n"
      ],
      "text/plain": [
       "       userid tradeid_3 show click\n",
       "3      3278   670601    361   8   \n",
       "36756  3278   670601    557  14   \n",
       "71395  3278   670601    229   6   \n",
       "97670  3278   670601    187   3   \n",
       "137023 3278   670601    364   6   \n",
       "       title                                             \n",
       "3       增长知识，更增长见识--平和英语360°极酷英语夏令营!\n",
       "36756   增长知识，更增长见识--平和英语360°极酷英语夏令营!\n",
       "71395   增长知识，更增长见识--平和英语360°极酷英语夏令营!\n",
       "97670   增长知识，更增长见识--平和英语360°极酷英语夏令营!\n",
       "137023  增长知识，更增长见识--平和英语360°极酷英语夏令营!"
      ]
     },
     "metadata": {},
     "output_type": "display_data"
    },
    {
     "data": {
      "text/html": [
       "<table>\n",
       "<thead><tr><th></th><th scope=col>title</th><th scope=col>uned</th><th scope=col>sellpoint</th><th scope=col>socre</th></tr></thead>\n",
       "<tbody>\n",
       "\t<tr><th scope=row>3</th><td>增长知识，更增长见识--平和英语360°极酷英语夏令营! </td><td>便宜                                              </td><td>轻松学习                                          </td><td>0.4476695                                         </td></tr>\n",
       "\t<tr><th scope=row>36745</th><td>增长知识，更增长见识--平和英语360°极酷英语夏令营! </td><td>便宜                                              </td><td>轻松学习                                          </td><td>0.4476695                                         </td></tr>\n",
       "\t<tr><th scope=row>71371</th><td>增长知识，更增长见识--平和英语360°极酷英语夏令营! </td><td>便宜                                              </td><td>轻松学习                                          </td><td>0.4476695                                         </td></tr>\n",
       "\t<tr><th scope=row>97635</th><td>增长知识，更增长见识--平和英语360°极酷英语夏令营! </td><td>便宜                                              </td><td>轻松学习                                          </td><td>0.4476695                                         </td></tr>\n",
       "\t<tr><th scope=row>136976</th><td>增长知识，更增长见识--平和英语360°极酷英语夏令营! </td><td>便宜                                              </td><td>轻松学习                                          </td><td>0.4476695                                         </td></tr>\n",
       "</tbody>\n",
       "</table>\n"
      ],
      "text/latex": [
       "\\begin{tabular}{r|llll}\n",
       "  & title & uned & sellpoint & socre\\\\\n",
       "\\hline\n",
       "\t3 & 增长知识，更增长见识--平和英语360°极酷英语夏令营!  & 便宜                                               & 轻松学习                                           & 0.4476695                                         \\\\\n",
       "\t36745 & 增长知识，更增长见识--平和英语360°极酷英语夏令营!  & 便宜                                               & 轻松学习                                           & 0.4476695                                         \\\\\n",
       "\t71371 & 增长知识，更增长见识--平和英语360°极酷英语夏令营!  & 便宜                                               & 轻松学习                                           & 0.4476695                                         \\\\\n",
       "\t97635 & 增长知识，更增长见识--平和英语360°极酷英语夏令营!  & 便宜                                               & 轻松学习                                           & 0.4476695                                         \\\\\n",
       "\t136976 & 增长知识，更增长见识--平和英语360°极酷英语夏令营!  & 便宜                                               & 轻松学习                                           & 0.4476695                                         \\\\\n",
       "\\end{tabular}\n"
      ],
      "text/markdown": [
       "\n",
       "| <!--/--> | title | uned | sellpoint | socre |\n",
       "|---|---|---|---|---|\n",
       "| 3 | 增长知识，更增长见识--平和英语360°极酷英语夏令营!  | 便宜                                               | 轻松学习                                           | 0.4476695                                          |\n",
       "| 36745 | 增长知识，更增长见识--平和英语360°极酷英语夏令营!  | 便宜                                               | 轻松学习                                           | 0.4476695                                          |\n",
       "| 71371 | 增长知识，更增长见识--平和英语360°极酷英语夏令营!  | 便宜                                               | 轻松学习                                           | 0.4476695                                          |\n",
       "| 97635 | 增长知识，更增长见识--平和英语360°极酷英语夏令营!  | 便宜                                               | 轻松学习                                           | 0.4476695                                          |\n",
       "| 136976 | 增长知识，更增长见识--平和英语360°极酷英语夏令营!  | 便宜                                               | 轻松学习                                           | 0.4476695                                          |\n",
       "\n"
      ],
      "text/plain": [
       "       title                                              uned sellpoint\n",
       "3      增长知识，更增长见识--平和英语360°极酷英语夏令营!  便宜 轻松学习 \n",
       "36745  增长知识，更增长见识--平和英语360°极酷英语夏令营!  便宜 轻松学习 \n",
       "71371  增长知识，更增长见识--平和英语360°极酷英语夏令营!  便宜 轻松学习 \n",
       "97635  增长知识，更增长见识--平和英语360°极酷英语夏令营!  便宜 轻松学习 \n",
       "136976 增长知识，更增长见识--平和英语360°极酷英语夏令营!  便宜 轻松学习 \n",
       "       socre    \n",
       "3      0.4476695\n",
       "36745  0.4476695\n",
       "71371  0.4476695\n",
       "97635  0.4476695\n",
       "136976 0.4476695"
      ]
     },
     "metadata": {},
     "output_type": "display_data"
    }
   ],
   "source": [
    "g67[which(' 增长知识，更增长见识--平和英语360°极酷英语夏令营!' == g67$title),]\n",
    "sell[which(sell[3,\"title\"] == sell$title),]"
   ]
  },
  {
   "cell_type": "code",
   "execution_count": null,
   "metadata": {},
   "outputs": [],
   "source": []
  }
 ],
 "metadata": {
  "kernelspec": {
   "display_name": "R",
   "language": "R",
   "name": "ir"
  },
  "language_info": {
   "codemirror_mode": "r",
   "file_extension": ".r",
   "mimetype": "text/x-r-source",
   "name": "R",
   "pygments_lexer": "r",
   "version": "3.5.2"
  }
 },
 "nbformat": 4,
 "nbformat_minor": 2
}
